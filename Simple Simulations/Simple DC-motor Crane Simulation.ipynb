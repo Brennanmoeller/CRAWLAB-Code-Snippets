{
 "metadata": {
  "name": "",
  "signature": "sha256:3d40a6841cc2aa198db1c9e9cc308aea45c9aff08a9efc878ffcf5066dfc690d"
 },
 "nbformat": 3,
 "nbformat_minor": 0,
 "worksheets": [
  {
   "cells": [
    {
     "cell_type": "markdown",
     "metadata": {},
     "source": [
      "<h1 style=\"text-align:center\">Simluation of a Simple DC-motor-driven Crane System</h1>\n",
      "<p style=\"text-align:center\">Dr. Joshua Vaughan <br>\n",
      "<a href=\"mailto:joshua.vaughan@louisiana.edu\">joshua.vaughan@louisiana.edu</a><br>\n",
      "http://www.ucs.louisiana.edu/~jev9637/   </p>"
     ]
    },
    {
     "cell_type": "markdown",
     "metadata": {},
     "source": [
      "<p style=\"text-align:center\">\n",
      "\t<img src=\"http://shared.crawlab.org/DCmotor_crane.png\" alt=\"The Simple DC-Motor Crane Model\" width=35%/></a><br>\n",
      "    <strong> Figure 1: The Simple DC-Motor Crane Model</strong>\n",
      "</p>\n",
      "\n",
      "This notebook simluates a the simple DC-Motor crane model like the one shown in Figure 1. We will also be using some functions from the [Python Control Systems Toolbox](https://www.cds.caltech.edu/~murray/wiki/Control_Systems_Library_for_Python).\n",
      "\n",
      "\n",
      "The equations of motion are:\n",
      "\n",
      "$ \\quad m_2 l^2 \\ddot{\\phi} + m_2 g l \\phi +  m_2 r l \\ddot{\\theta} = 0 $\n",
      "\n",
      "$ \\quad I_{wheel} \\ddot{\\theta} + \\left(b + \\frac{K_t K_e}{R_a}\\right) \\dot{\\theta} = \\frac{K_t}{R_a}V_a $"
     ]
    },
    {
     "cell_type": "code",
     "collapsed": false,
     "input": [
      "import numpy as np\n",
      "import control"
     ],
     "language": "python",
     "metadata": {},
     "outputs": [],
     "prompt_number": 2
    },
    {
     "cell_type": "code",
     "collapsed": false,
     "input": [
      "%matplotlib inline\n",
      "\n",
      "import matplotlib.pyplot as plt"
     ],
     "language": "python",
     "metadata": {},
     "outputs": [],
     "prompt_number": 3
    },
    {
     "cell_type": "markdown",
     "metadata": {},
     "source": [
      "Simplify the equations of motion, to put into state-space form.\n",
      "\n",
      "$ \\quad \\ddot{\\phi} + \\frac{g}{l}\\phi + \\frac{r}{l}\\ddot{\\theta} = 0 $\n",
      "\n",
      "$ \\quad \\ddot{\\theta} + \\left(\\frac{b}{I_{wheel}} + \\frac{K_t K_e}{R_a I_{wheel}}\\right) \\dot{\\theta} = \\frac{K_t}{R_a I_{wheel}} V_a \\quad $  or $\\quad \\ddot{\\theta} = \\frac{K_t}{R_a I_{wheel}} V_a - \\left(\\frac{b}{I_{wheel}} + \\frac{K_t K_e}{R_a I_{wheel}}\\right) \\dot{\\theta}$"
     ]
    },
    {
     "cell_type": "code",
     "collapsed": false,
     "input": [
      "g = 9.81                         # gravity (m/s^2)\n",
      "l = 4.                           # cable length (m)\n",
      "\n",
      "# motor parameters - TODO: Update to appropriate choices\n",
      "r = 0.5                          # motor rotor radius\n",
      "b = 1.                           # motor damping coeff\n",
      "Kt = 1.                          # motor torque constant\n",
      "Ke = 1.                          # motor electric constant\n",
      "Ra = 1000.                       # motor effective resistance\n",
      "\n",
      "# Interial properties - TODO: Update to appropriate choices\n",
      "m1 = 1                           # wheel/motor rotor mass (kg)\n",
      "m2 = 1                           # payload mass (kg)\n",
      "I_wheel = 0.5 * m2 * r**2        # wheel/motor rotor moment of inertia"
     ],
     "language": "python",
     "metadata": {},
     "outputs": [],
     "prompt_number": 4
    },
    {
     "cell_type": "markdown",
     "metadata": {},
     "source": [
      "Define some temporary variables\n",
      "\n",
      "$ \\quad \\beta = \\frac{b}{I_{wheel}} + \\frac{K_t K_e}{R_a I_{wheel}} $\n",
      "\n",
      "so \n",
      "\n",
      "$ \\quad \\ddot{\\theta} + \\beta \\dot{\\theta} = \\frac{K_t}{R_a I_{wheel}} V_a $\n",
      "\n",
      "$ \\quad \\ddot{\\phi} + \\frac{g}{l}\\phi + \\frac{r}{l}\\left(\\frac{K_t}{R_a I_{wheel}} V_a - \\beta \\dot{\\theta}\\right) = 0 $\n",
      "\n",
      "Now, rearranging terms:\n",
      "\n",
      "$ \\quad \\ddot{\\phi} + \\frac{g}{l}\\phi - \\frac{r \\beta}{l} \\dot{\\theta} = -\\frac{r}{l}\\left(\\frac{K_t}{R_a I_{wheel}}\\right) V_a $\n",
      "\n",
      "$ \\quad \\ddot{\\theta} + \\beta \\dot{\\theta} = \\frac{K_t}{R_a I_{wheel}} V_a $\n",
      "\n",
      "Get ready for state-space form:\n",
      "\n",
      "$ \\quad \\ddot{\\phi} = - \\frac{g}{l}\\phi + \\frac{r \\beta}{l} \\dot{\\theta} -\\frac{r}{l}\\left(\\frac{K_t}{R_a I_{wheel}}\\right) V_a $\n",
      "\n",
      "$ \\quad \\ddot{\\theta} = - \\beta \\dot{\\theta} + \\frac{K_t}{R_a I_{wheel}} V_a $"
     ]
    },
    {
     "cell_type": "markdown",
     "metadata": {},
     "source": [
      "## State Space Forumlation\n",
      "Define the state matrix as:\n",
      "\n",
      "$ \\quad \\bar{x} = \\left[\\theta \\quad \\dot{\\theta} \\quad \\phi \\quad  \\dot{\\phi}\\right]^T $\n",
      "\n",
      "$ \\quad \\dot{x} = A x + B u $ \n",
      "\n",
      "where\n",
      "\n",
      "$ \\quad A = \\begin{bmatrix}0 & 1 & 0 & 0 \\\\\n",
      "-g/l & 0 & 0 & r\\beta / l \\\\\n",
      "0 & 0 & 0 & 1 \\\\\n",
      "0 & 0 & 0 & -\\beta \\end{bmatrix} $ \n",
      "\n",
      "and \n",
      "\n",
      "$ \\quad B = \\begin{bmatrix}0 \\\\\n",
      "-\\frac{r K_t}{R_a I_{wheel} l}\\\\\n",
      "0 \\\\\n",
      "\\phantom{-}\\frac{K_t}{R_a I_{wheel}}\n",
      "\\end{bmatrix} $"
     ]
    },
    {
     "cell_type": "code",
     "collapsed": false,
     "input": [
      "# define the temporary variables\n",
      "beta = 1./I_wheel * (b - Kt*Ke/Ra)"
     ],
     "language": "python",
     "metadata": {},
     "outputs": [],
     "prompt_number": 5
    },
    {
     "cell_type": "code",
     "collapsed": false,
     "input": [
      "# Define the system to use in simulation - in state-space form here\n",
      "A = [[0,1,0,0], \n",
      "     [-g/l, 0, 0, r*beta/l],\n",
      "     [0, 0, 0, 1],\n",
      "     [0, 0, 0, -beta]]\n",
      "\n",
      "B = [[0],[-r*Kt/(Ra*l*I_wheel)],[0],[Kt/(Ra*I_wheel)]]\n",
      "\n",
      "C = [[1,0,0,0],[0,0,1,0]]\n",
      "\n",
      "D = [[0],[0]]\n",
      "\n",
      "sys = control.ss(A,B,C,D)"
     ],
     "language": "python",
     "metadata": {},
     "outputs": [],
     "prompt_number": 6
    },
    {
     "cell_type": "code",
     "collapsed": false,
     "input": [
      "# Set up simulation parameters\n",
      "t = np.linspace(0,15,500)            # time for simulation, 0-5s with 500 points in between\n",
      "x0 = [[0],[0],[0],[0]]              # initial condition, all zero here\n",
      "\n",
      "# Just a pulse in velocity for now\n",
      "V = 1000*np.ones_like(t) * (t>0.5) * (t<2.5)\n",
      "\n",
      "# run the simulation\n",
      "[time, y_out, x_out] = control.forced_response(sys,t,V)"
     ],
     "language": "python",
     "metadata": {},
     "outputs": [],
     "prompt_number": 7
    },
    {
     "cell_type": "code",
     "collapsed": false,
     "input": [
      "# Let's plot the time response of phi\n",
      "\n",
      "# Set the plot size - 3x2 aspect ratio is best\n",
      "fig = plt.figure(figsize=(6,4))\n",
      "ax = plt.gca()\n",
      "plt.subplots_adjust(bottom=0.17,left=0.17,top=0.96,right=0.96)\n",
      "\n",
      "# Change the axis units to CMU Serif\n",
      "plt.setp(ax.get_ymajorticklabels(),family='CMU Serif',fontsize=18)\n",
      "plt.setp(ax.get_xmajorticklabels(),family='CMU Serif',fontsize=18)\n",
      "\n",
      "ax.spines['right'].set_color('none')\n",
      "ax.spines['top'].set_color('none')\n",
      "\n",
      "ax.xaxis.set_ticks_position('bottom')\n",
      "ax.yaxis.set_ticks_position('left')\n",
      "\n",
      "# Turn on the plot grid and set appropriate linestyle and color\n",
      "ax.grid(True,linestyle=':',color='0.75')\n",
      "ax.set_axisbelow(True)\n",
      "\n",
      "# Define the X and Y axis labels\n",
      "plt.xlabel('Time (s)',family='CMU Serif',fontsize=22,weight='bold',labelpad=5)\n",
      "plt.ylabel('Angle (deg)',family='CMU Serif',fontsize=22,weight='bold',labelpad=10)\n",
      "\n",
      "plt.plot(time,y_out[0,:]*180./np.pi,linewidth=2,label=r'$phi$')\n",
      "\n",
      "# Create the legend, then fix the fontsize\n",
      "# leg = plt.legend(loc='upper right', fancybox=True)\n",
      "# ltext  = leg.get_texts()\n",
      "# plt.setp(ltext,family='CMU Serif',fontsize=16)\n",
      "\n",
      "# Adjust the page layout filling the page using the new tight_layout command\n",
      "plt.tight_layout(pad=0.5)\n",
      "\n",
      "# save the figure as a high-res pdf in the current folder\n",
      "# plt.savefig('DCcrane_PendResponse.pdf',dpi=300)\n",
      "\n",
      "fig.set_size_inches(9,6) # Resize the figure for better display in the notebook"
     ],
     "language": "python",
     "metadata": {},
     "outputs": [
      {
       "metadata": {},
       "output_type": "display_data",
       "png": "[encoded data removed]",
       "text": [
        "<matplotlib.figure.Figure at 0x10ce0e990>"
       ]
      }
     ],
     "prompt_number": 8
    },
    {
     "cell_type": "code",
     "collapsed": false,
     "input": [
      "# Let's look at the x motion\n",
      "\n",
      "# Set the plot size - 3x2 aspect ratio is best\n",
      "fig = plt.figure(figsize=(6,4))\n",
      "ax = plt.gca()\n",
      "plt.subplots_adjust(bottom=0.17,left=0.17,top=0.96,right=0.96)\n",
      "\n",
      "# Change the axis units to CMU Serif\n",
      "plt.setp(ax.get_ymajorticklabels(),family='CMU Serif',fontsize=18)\n",
      "plt.setp(ax.get_xmajorticklabels(),family='CMU Serif',fontsize=18)\n",
      "\n",
      "ax.spines['right'].set_color('none')\n",
      "ax.spines['top'].set_color('none')\n",
      "\n",
      "ax.xaxis.set_ticks_position('bottom')\n",
      "ax.yaxis.set_ticks_position('left')\n",
      "\n",
      "# Turn on the plot grid and set appropriate linestyle and color\n",
      "ax.grid(True,linestyle=':',color='0.75')\n",
      "ax.set_axisbelow(True)\n",
      "\n",
      "# Define the X and Y axis labels\n",
      "plt.xlabel('Time (s)',family='CMU Serif',fontsize=22,weight='bold',labelpad=5)\n",
      "plt.ylabel('Position (m)',family='CMU Serif',fontsize=22,weight='bold',labelpad=10)\n",
      "\n",
      "plt.plot(time,y_out[1,:]*r,linewidth=2,label=r'$phi$')\n",
      "\n",
      "# uncomment below and set limits if needed\n",
      "# plt.xlim(0,5)\n",
      "# plt.ylim(0,10)\n",
      "\n",
      "# Create the legend, then fix the fontsize\n",
      "# leg = plt.legend(loc='upper right', fancybox=True)\n",
      "# ltext  = leg.get_texts()\n",
      "# setp(ltext,family='CMU Serif',fontsize=16)\n",
      "\n",
      "# Adjust the page layout filling the page using the new tight_layout command\n",
      "plt.tight_layout(pad=0.5)\n",
      "\n",
      "# save the figure as a high-res pdf in the current folder\n",
      "# plt.savefig('DCcrane_HorizResponse.pdf')\n",
      "\n",
      "fig.set_size_inches(9,6) # Resize the figure for better display in the notebook"
     ],
     "language": "python",
     "metadata": {},
     "outputs": [
      {
       "metadata": {},
       "output_type": "display_data",
       "png": "[encoded data removed]",
       "text": [
        "<matplotlib.figure.Figure at 0x10cee2650>"
       ]
      }
     ],
     "prompt_number": 9
    },
    {
     "cell_type": "markdown",
     "metadata": {},
     "source": [
      "<hr class = \"style-end\">"
     ]
    },
    {
     "cell_type": "markdown",
     "metadata": {},
     "source": [
      "#### Licenses\n",
      "Code is licensed under a 3-clause BSD style license. See the licenses/LICENSE.md file.\n",
      "\n",
      "Other content is provided under a [Creative Commons Attribution-NonCommercial 4.0 International License](http://creativecommons.org/licenses/by-nc/4.0/), CC-BY-NC 4.0.\n",
      "\n"
     ]
    },
    {
     "cell_type": "code",
     "collapsed": false,
     "input": [
      "# Ignore this cell - We just update the CSS to make the notebook look a little bit better and easier to read\n",
      "\n",
      "# Improve the notebook styling -- Run this first\n",
      "from IPython.core.display import HTML\n",
      "css_file = 'styling/CRAWLAB_IPythonNotebook.css'\n",
      "HTML(open(css_file, \"r\").read())"
     ],
     "language": "python",
     "metadata": {},
     "outputs": [
      {
       "html": [
        "<style>\n",
        "    @font-face {\n",
        "        font-family: \"Computer Modern\";\n",
        "        src: url('http://9dbb143991406a7c655e-aa5fcb0a5a4ec34cff238a2d56ca4144.r56.cf5.rackcdn.com/cmunss.otf');\n",
        "    }\n",
        "    @font-face {\n",
        "        font-family: \"Computer Modern\";\n",
        "        font-weight: bold;\n",
        "        src: url('http://9dbb143991406a7c655e-aa5fcb0a5a4ec34cff238a2d56ca4144.r56.cf5.rackcdn.com/cmunsx.otf');\n",
        "    }\n",
        "    @font-face {\n",
        "        font-family: \"Computer Modern\";\n",
        "        font-style: oblique;\n",
        "        src: url('http://9dbb143991406a7c655e-aa5fcb0a5a4ec34cff238a2d56ca4144.r56.cf5.rackcdn.com/cmunsi.otf');\n",
        "    }\n",
        "    @font-face {\n",
        "        font-family: \"Computer Modern\";\n",
        "        font-weight: bold;\n",
        "        font-style: oblique;\n",
        "        src: url('http://9dbb143991406a7c655e-aa5fcb0a5a4ec34cff238a2d56ca4144.r56.cf5.rackcdn.com/cmunso.otf');\n",
        "    }\n",
        "    \n",
        "    div.cell{\n",
        "        max-width:1100px;\n",
        "        margin-left:auto;\n",
        "        margin-right:auto;\n",
        "    }\n",
        "    \n",
        "    h1 {\n",
        "        font-family: Computer Modern;\n",
        "    }\n",
        "    \n",
        "    h4{\n",
        "        margin-top:12px;\n",
        "        margin-bottom: 3px;\n",
        "       }\n",
        "\n",
        "    div.text_cell_render{\n",
        "        font-family: Computer Modern, \"Helvetica Neue\", Arial, Helvetica, Geneva, sans-serif;\n",
        "        line-height: 145%;\n",
        "        font-size: 130%;\n",
        "        max-width:1100px;\n",
        "        margin-left:auto;\n",
        "        margin-right:auto;\n",
        "    }\n",
        "    \n",
        "    .CodeMirror{\n",
        "            font-family: \"Source Code Pro\", source-code-pro, Consolas, monospace;\n",
        "    }\n",
        "    \n",
        "    .warning{\n",
        "        color: rgb( 240, 20, 20 )\n",
        "        }  \n",
        "    \n",
        "    hr.style-end {\n",
        "    border: 0;\n",
        "    height: 1px;\n",
        "    text-align: center;\n",
        "    background: #333;\n",
        "    background-image: -webkit-linear-gradient(left, #ccc, #333, #ccc); \n",
        "    background-image:    -moz-linear-gradient(left, #ccc, #333, #ccc); \n",
        "    background-image:     -ms-linear-gradient(left, #ccc, #333, #ccc); \n",
        "    background-image:      -o-linear-gradient(left, #ccc, #333, #ccc); \n",
        "    }\n",
        "\n",
        "    hr.style-end:after {\n",
        "    content: \"\u269c\";\n",
        "    display: inline-block;\n",
        "    position: relative; \n",
        "    top: -0.5em;  \n",
        "    font-size: 1.5em;\n",
        "    padding: 0 0.25em;\n",
        "    background: white;\n",
        "    }\n",
        "    \n",
        "/*  Center figures, etc\n",
        "    .ui-wrapper {\n",
        "        margin-left: auto !important;\n",
        "        margin-right: auto !important;\n",
        "    }\n",
        " */\n",
        "    \n",
        "</style>\n",
        "<script>\n",
        "    MathJax.Hub.Config({\n",
        "                        TeX: {\n",
        "                           extensions: [\"AMSmath.js\"]\n",
        "                           },\n",
        "                tex2jax: {\n",
        "                    inlineMath: [ ['$','$'], [\"\\\\(\",\"\\\\)\"] ],\n",
        "                    displayMath: [ ['$$','$$'], [\"\\\\[\",\"\\\\]\"] ]\n",
        "                },\n",
        "                displayAlign: 'center', // Change this to 'center' to center equations.\n",
        "                \"HTML-CSS\": {\n",
        "                    styles: {'.MathJax_Display': {\"margin\": 4}}\n",
        "                }\n",
        "        });\n",
        "</script>\n"
       ],
       "metadata": {},
       "output_type": "pyout",
       "prompt_number": 1,
       "text": [
        "<IPython.core.display.HTML at 0x106792dd0>"
       ]
      }
     ],
     "prompt_number": 1
    }
   ],
   "metadata": {}
  }
 ]
}