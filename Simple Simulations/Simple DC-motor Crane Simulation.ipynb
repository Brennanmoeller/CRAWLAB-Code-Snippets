{
 "metadata": {
  "name": ""
 },
 "nbformat": 3,
 "nbformat_minor": 0,
 "worksheets": [
  {
   "cells": [
    {
     "cell_type": "markdown",
     "metadata": {},
     "source": [
      "<h1 style=\"text-align:center\">Simluation of a Simple DC-motor-driven Crane System</h1>\n",
      "<p style=\"text-align:center\">Dr. Joshua Vaughan <br>\n",
      "<a href=\"mailto:joshua.vaughan@louisiana.edu\">joshua.vaughan@louisiana.edu</a><br>\n",
      "http://www.ucs.louisiana.edu/~jev9637/   </p>"
     ]
    },
    {
     "cell_type": "markdown",
     "metadata": {},
     "source": [
      "<p style=\"text-align:center\">\n",
      "\t<img src=\"http://shared.crawlab.org/DCmotor_crane.png\" alt=\"The Simple DC-Motor Crane Model\" width=35%/></a><br>\n",
      "    <strong> Figure 1: The Simple DC-Motor Crane Model</strong>\n",
      "</p>\n",
      "\n",
      "This notebook simluates a the simple DC-Motor crane model like the one shown in Figure 1. We will also be using some functions from the [Python Control Systems Toolbox](https://www.cds.caltech.edu/~murray/wiki/Control_Systems_Library_for_Python).\n",
      "\n",
      "\n",
      "The equations of motion are:\n",
      "\n",
      "$ \\quad m_2 l^2 \\ddot{\\phi} + m_2 g l \\phi +  m_2 r l \\ddot{\\theta} = 0 $\n",
      "\n",
      "$ \\quad I_{wheel} \\ddot{\\theta} + \\left(b + \\frac{K_t K_e}{R_a}\\right) \\dot{\\theta} = \\frac{K_t}{R_a}V_a $"
     ]
    },
    {
     "cell_type": "code",
     "collapsed": false,
     "input": [
      "import numpy as np\n",
      "import control"
     ],
     "language": "python",
     "metadata": {},
     "outputs": [],
     "prompt_number": 1
    },
    {
     "cell_type": "code",
     "collapsed": false,
     "input": [
      "%pylab inline"
     ],
     "language": "python",
     "metadata": {},
     "outputs": [
      {
       "output_type": "stream",
       "stream": "stdout",
       "text": [
        "Populating the interactive namespace from numpy and matplotlib\n"
       ]
      }
     ],
     "prompt_number": 2
    },
    {
     "cell_type": "markdown",
     "metadata": {},
     "source": [
      "Simplify the equations of motion, to put into state-space form.\n",
      "\n",
      "$ \\quad \\ddot{\\phi} + \\frac{g}{l}\\phi + \\frac{r}{l}\\ddot{\\theta} = 0 $\n",
      "\n",
      "$ \\quad \\ddot{\\theta} + \\left(\\frac{b}{I_{wheel}} + \\frac{K_t K_e}{R_a I_{wheel}}\\right) \\dot{\\theta} = \\frac{K_t}{R_a I_{wheel}} V_a \\quad $  or $\\quad \\ddot{\\theta} = \\frac{K_t}{R_a I_{wheel}} V_a - \\left(\\frac{b}{I_{wheel}} + \\frac{K_t K_e}{R_a I_{wheel}}\\right) \\dot{\\theta}$"
     ]
    },
    {
     "cell_type": "code",
     "collapsed": false,
     "input": [
      "g = 9.81                         # gravity (m/s^2)\n",
      "l = 4.                           # cable length (m)\n",
      "\n",
      "# motor parameters - TODO: Update to appropriate choices\n",
      "r = 0.5                          # motor rotor radius\n",
      "b = 1.                           # motor damping coeff\n",
      "Kt = 1.                          # motor torque constant\n",
      "Ke = 1.                          # motor electric constant\n",
      "Ra = 1000.                       # motor effective resistance\n",
      "\n",
      "# Interial properties - TODO: Update to appropriate choices\n",
      "m1 = 1                           # wheel/motor rotor mass (kg)\n",
      "m2 = 1                           # payload mass (kg)\n",
      "I_wheel = 0.5 * m2 * r**2        # wheel/motor rotor moment of inertia"
     ],
     "language": "python",
     "metadata": {},
     "outputs": [],
     "prompt_number": 3
    },
    {
     "cell_type": "markdown",
     "metadata": {},
     "source": [
      "Define some temporary variables\n",
      "\n",
      "$ \\quad \\beta = \\frac{b}{I_{wheel}} + \\frac{K_t K_e}{R_a I_{wheel}} $\n",
      "\n",
      "so \n",
      "\n",
      "$ \\quad \\ddot{\\theta} + \\beta \\dot{\\theta} = \\frac{K_t}{R_a I_{wheel}} V_a $\n",
      "\n",
      "$ \\quad \\ddot{\\phi} + \\frac{g}{l}\\phi + \\frac{r}{l}\\left(\\frac{K_t}{R_a I_{wheel}} V_a - \\beta \\dot{\\theta}\\right) = 0 $\n",
      "\n",
      "Now, rearranging terms:\n",
      "\n",
      "$ \\quad \\ddot{\\phi} + \\frac{g}{l}\\phi - \\frac{r \\beta}{l} \\dot{\\theta} = -\\frac{r}{l}\\left(\\frac{K_t}{R_a I_{wheel}}\\right) V_a $\n",
      "\n",
      "$ \\quad \\ddot{\\theta} + \\beta \\dot{\\theta} = \\frac{K_t}{R_a I_{wheel}} V_a $\n",
      "\n",
      "Get ready for state-space form:\n",
      "\n",
      "$ \\quad \\ddot{\\phi} = - \\frac{g}{l}\\phi + \\frac{r \\beta}{l} \\dot{\\theta} -\\frac{r}{l}\\left(\\frac{K_t}{R_a I_{wheel}}\\right) V_a $\n",
      "\n",
      "$ \\quad \\ddot{\\theta} = - \\beta \\dot{\\theta} + \\frac{K_t}{R_a I_{wheel}} V_a $"
     ]
    },
    {
     "cell_type": "markdown",
     "metadata": {},
     "source": [
      "## State Space Forumlation\n",
      "Define the state matrix as:\n",
      "\n",
      "$ \\quad \\bar{x} = \\left[\\theta \\quad \\dot{\\theta} \\quad \\phi \\quad  \\dot{\\phi}\\right]^T $\n",
      "\n",
      "$ \\quad \\dot{x} = A x + B u $ \n",
      "\n",
      "where\n",
      "\n",
      "$ \\quad A = \\begin{bmatrix}0 & 1 & 0 & 0 \\\\\n",
      "-g/l & 0 & 0 & r\\beta / l \\\\\n",
      "0 & 0 & 0 & 1 \\\\\n",
      "0 & 0 & 0 & -\\beta \\end{bmatrix} $ \n",
      "\n",
      "and \n",
      "\n",
      "$ \\quad B = \\begin{bmatrix}0 \\\\\n",
      "-\\frac{r K_t}{R_a I_{wheel} l}\\\\\n",
      "0 \\\\\n",
      "\\phantom{-}\\frac{K_t}{R_a I_{wheel}}\n",
      "\\end{bmatrix} $"
     ]
    },
    {
     "cell_type": "code",
     "collapsed": false,
     "input": [
      "# define the temporary variables\n",
      "beta = 1./I_wheel * (b - Kt*Ke/Ra)"
     ],
     "language": "python",
     "metadata": {},
     "outputs": [],
     "prompt_number": 4
    },
    {
     "cell_type": "code",
     "collapsed": false,
     "input": [
      "# Define the system to use in simulation - in state-space form here\n",
      "A = [[0,1,0,0], \n",
      "     [-g/l, 0, 0, r*beta/l],\n",
      "     [0, 0, 0, 1],\n",
      "     [0, 0, 0, -beta]]\n",
      "\n",
      "B = [[0],[-r*Kt/(Ra*l*I_wheel)],[0],[Kt/(Ra*I_wheel)]]\n",
      "\n",
      "C = [[1,0,0,0],[0,0,1,0]]\n",
      "\n",
      "D = [[0],[0]]\n",
      "\n",
      "sys = control.ss(A,B,C,D)"
     ],
     "language": "python",
     "metadata": {},
     "outputs": [],
     "prompt_number": 5
    },
    {
     "cell_type": "code",
     "collapsed": false,
     "input": [
      "# Set up simulation parameters\n",
      "t = np.linspace(0,15,500)            # time for simulation, 0-5s with 500 points in between\n",
      "x0 = [[0],[0],[0],[0]]              # initial condition, all zero here\n",
      "\n",
      "# Just a pulse in velocity for now\n",
      "V = 1000*np.ones_like(t) * (t>0.5) * (t<2.5)\n",
      "\n",
      "# run the simulation\n",
      "[time, y_out, x_out] = control.forced_response(sys,t,V)"
     ],
     "language": "python",
     "metadata": {},
     "outputs": [],
     "prompt_number": 6
    },
    {
     "cell_type": "code",
     "collapsed": false,
     "input": [
      "# Let's plot the time response of phi\n",
      "\n",
      "# Set the plot size - 3x2 aspect ratio is best\n",
      "fig = figure(figsize=(6,4))\n",
      "ax = gca()\n",
      "subplots_adjust(bottom=0.17,left=0.17,top=0.96,right=0.96)\n",
      "\n",
      "# Change the axis units to CMU Serif\n",
      "setp(ax.get_ymajorticklabels(),family='CMU Serif',fontsize=18)\n",
      "setp(ax.get_xmajorticklabels(),family='CMU Serif',fontsize=18)\n",
      "\n",
      "ax.spines['right'].set_color('none')\n",
      "ax.spines['top'].set_color('none')\n",
      "\n",
      "ax.xaxis.set_ticks_position('bottom')\n",
      "ax.yaxis.set_ticks_position('left')\n",
      "\n",
      "# Turn on the plot grid and set appropriate linestyle and color\n",
      "ax.grid(True,linestyle=':',color='0.75')\n",
      "ax.set_axisbelow(True)\n",
      "\n",
      "# Define the X and Y axis labels\n",
      "xlabel('Time (s)',family='CMU Serif',fontsize=22,weight='bold',labelpad=5)\n",
      "ylabel('Angle (deg)',family='CMU Serif',fontsize=22,weight='bold',labelpad=10)\n",
      "\n",
      "plot(time,y_out[0,:]*180./np.pi,linewidth=2,label=r'$phi$')\n",
      "\n",
      "# Create the legend, then fix the fontsize\n",
      "# leg = legend(loc='upper right', fancybox=True)\n",
      "# ltext  = leg.get_texts()\n",
      "# setp(ltext,family='CMU Serif',fontsize=16)\n",
      "\n",
      "# Adjust the page layout filling the page using the new tight_layout command\n",
      "tight_layout(pad=0.5)\n",
      "\n",
      "# save the figure as a high-res pdf in the current folder\n",
      "# savefig('DCcrane_PendResponse.pdf',dpi=300)"
     ],
     "language": "python",
     "metadata": {},
     "outputs": [
      {
       "metadata": {},
       "output_type": "display_data",
       "png": "[encoded data removed]",
       "text": [
        "<matplotlib.figure.Figure at 0x10c6e6990>"
       ]
      }
     ],
     "prompt_number": 7
    },
    {
     "cell_type": "code",
     "collapsed": false,
     "input": [
      "# Let's look at the x motion\n",
      "\n",
      "# Set the plot size - 3x2 aspect ratio is best\n",
      "fig = figure(figsize=(6,4))\n",
      "ax = gca()\n",
      "subplots_adjust(bottom=0.17,left=0.17,top=0.96,right=0.96)\n",
      "\n",
      "# Change the axis units to CMU Serif\n",
      "setp(ax.get_ymajorticklabels(),family='CMU Serif',fontsize=18)\n",
      "setp(ax.get_xmajorticklabels(),family='CMU Serif',fontsize=18)\n",
      "\n",
      "ax.spines['right'].set_color('none')\n",
      "ax.spines['top'].set_color('none')\n",
      "\n",
      "ax.xaxis.set_ticks_position('bottom')\n",
      "ax.yaxis.set_ticks_position('left')\n",
      "\n",
      "# Turn on the plot grid and set appropriate linestyle and color\n",
      "ax.grid(True,linestyle=':',color='0.75')\n",
      "ax.set_axisbelow(True)\n",
      "\n",
      "# Define the X and Y axis labels\n",
      "xlabel('Time (s)',family='CMU Serif',fontsize=22,weight='bold',labelpad=5)\n",
      "ylabel('Position (m)',family='CMU Serif',fontsize=22,weight='bold',labelpad=10)\n",
      "\n",
      "plot(time,y_out[1,:]*r,linewidth=2,label=r'$phi$')\n",
      "\n",
      "# uncomment below and set limits if needed\n",
      "# xlim(0,5)\n",
      "# ylim(0,10)\n",
      "\n",
      "# Create the legend, then fix the fontsize\n",
      "# leg = legend(loc='upper right', fancybox=True)\n",
      "# ltext  = leg.get_texts()\n",
      "# setp(ltext,family='CMU Serif',fontsize=16)\n",
      "\n",
      "# Adjust the page layout filling the page using the new tight_layout command\n",
      "tight_layout(pad=0.5)\n",
      "\n",
      "# save the figure as a high-res pdf in the current folder\n",
      "# savefig('DCcrane_HorizResponse.pdf')"
     ],
     "language": "python",
     "metadata": {},
     "outputs": [
      {
       "metadata": {},
       "output_type": "display_data",
       "png": "[encoded data removed]",
       "text": [
        "<matplotlib.figure.Figure at 0x10c6f0390>"
       ]
      }
     ],
     "prompt_number": 8
    }
   ],
   "metadata": {}
  }
 ]
}