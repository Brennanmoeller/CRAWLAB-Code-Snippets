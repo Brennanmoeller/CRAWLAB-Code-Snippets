{
 "cells": [
  {
   "cell_type": "markdown",
   "metadata": {},
   "source": [
    "<h1 style=\"text-align:center\">Two-link Planar Robot Arm</h1>\n",
    "<p style=\"text-align:center\">Dr. Joshua Vaughan <br>\n",
    "<a href=\"mailto:joshua.vaughan@louisiana.edu\">joshua.vaughan@louisiana.edu</a><br>\n",
    "<a href=\"http://www.ucs.louisiana.edu/~jev9637/\">http://www.ucs.louisiana.edu/~jev9637/</a></p>"
   ]
  },
  {
   "cell_type": "markdown",
   "metadata": {},
   "source": [
    "We solved for the equations of motion fo this system using [SymPy](http://sympy.org) in [another notebook](http://nbviewer.jupyter.org/github/DocVaughan/CRAWLAB-Code-Snippets/blob/master/SymPy/Two%20Link%20Planar%20Arm.ipynb). Here, we'll use [NumPy](http://numpy.org) and the [SciPy](http://www.scipy.org) ode solver, ```ode``` to simulate the system. We'll use [matplotlib](http://www.scipy.org) to plot of the results."
   ]
  },
  {
   "cell_type": "code",
   "execution_count": 1,
   "metadata": {
    "collapsed": true
   },
   "outputs": [],
   "source": [
    "# import NumPy with namespace np\n",
    "import numpy as np\n",
    "\n",
    "# import the scipy ODE solver\n",
    "from scipy.integrate import odeint\n",
    "\n",
    "# import the plotting functions from matplotlib\n",
    "import matplotlib.pyplot as plt\n",
    "\n",
    "# set up the notebook to display the plots inline\n",
    "%matplotlib inline"
   ]
  },
  {
   "cell_type": "code",
   "execution_count": 2,
   "metadata": {
    "collapsed": true
   },
   "outputs": [],
   "source": [
    "def tau_1(w, t, p):\n",
    "    \"\"\" \n",
    "    Torque at the shoulder joint. Here is is a simple PD controller on joint angle, \n",
    "    using a derivative on measurement D term\n",
    "    \"\"\"\n",
    "    theta_1, theta_2, theta_1_dot, theta_2_dot = w\n",
    "    m_1, m_2, l_1, l_2, I_1, I_2, theta_1_des, theta_2_des, kp, kd = p\n",
    "    \n",
    "    return kp * (theta_1_des - theta_1) + kd * (-theta_1_dot)\n",
    "\n",
    "def tau_2(w, t, p):\n",
    "    \"\"\" \n",
    "    Torque at the shoulder joint. Here is is a simple PD controller on joint angle, \n",
    "    using a derivative on measurement D term\n",
    "    \"\"\"\n",
    "    theta_1, theta_2, theta_1_dot, theta_2_dot = w\n",
    "    m_1, m_2, l_1, l_2, I_1, I_2, theta_1_des, theta_2_des, kp, kd = p\n",
    "    \n",
    "    return kp * (theta_2_des - theta_2) + kd * (-theta_2_dot)   "
   ]
  },
  {
   "cell_type": "code",
   "execution_count": 7,
   "metadata": {
    "collapsed": true
   },
   "outputs": [],
   "source": [
    "def eq_of_motion(w, t, p):\n",
    "    \"\"\" Equations of motion for the two link system\"\"\"\n",
    "    \n",
    "    theta_1, theta_2, theta_1_dot, theta_2_dot = w\n",
    "    m_1, m_2, l_1, l_2, I_1, I_2, theta_1_des, theta_2_des, kp, kd = p\n",
    "    \n",
    "    sys_ode = [theta_1_dot,\n",
    "               theta_2_dot,\n",
    "               2*(4*I_2*l_1*l_2*m_2*np.sin(theta_2)*theta_1_dot**2 + 8*I_2*l_1*l_2*m_2*np.sin(theta_2)*theta_1_dot*theta_2_dot + 4*I_2*l_1*l_2*m_2*np.sin(theta_2)*theta_2_dot**2 + 8*I_2*tau_1(w, t, p) - 8*I_2*tau_2(w, t, p) + l_1**2*l_2**2*m_2**2*np.sin(2*theta_2)*theta_1_dot**2 + l_1*l_2**3*m_2**2*np.sin(theta_2)*theta_1_dot**2 + 2*l_1*l_2**3*m_2**2*np.sin(theta_2)*theta_1_dot*theta_2_dot + l_1*l_2**3*m_2**2*np.sin(theta_2)*theta_2_dot**2 - 4*l_1*l_2*m_2*tau_2(w, t, p)*np.cos(theta_2) + 2*l_2**2*m_2*tau_1(w, t, p) - 2*l_2**2*m_2*tau_2(w, t, p))/(l_1**2*(4*I_2*m_1 + 16*I_2*m_2 + l_2**2*m_1*m_2 + 4*l_2**2*m_2**2*np.sin(theta_2)**2)),\n",
    "               -(2*(4*I_2 + l_2*m_2*(2*l_1*np.cos(theta_2) + l_2))*(l_1*l_2*m_2*(2*theta_1_dot + theta_2_dot)*np.sin(theta_2)*theta_2_dot + 2*tau_1(w, t, p)) + 2*(l_1*l_2*m_2*np.sin(theta_2)*theta_1_dot**2 - 2*tau_2(w, t, p))*(4*I_2 + l_1**2*m_1 + m_2*(4*l_1**2 + 4*l_1*l_2*np.cos(theta_2) + l_2**2)))/(l_1**2*(4*I_2*m_1 + 16*I_2*m_2 + l_2**2*m_1*m_2 + 4*l_2**2*m_2**2*np.sin(theta_2)**2))]\n",
    "    \n",
    "    return sys_ode"
   ]
  },
  {
   "cell_type": "code",
   "execution_count": 119,
   "metadata": {},
   "outputs": [],
   "source": [
    "# Set up the initial conditions for the solver\n",
    "theta1_init = 90.0 * np.pi/180  # Initial angle (rad)\n",
    "theta1_dot_init = 0.0           # Initial angular velocity (rad/s)\n",
    "theta2_init = 0.0 * np.pi/180  # Initial angle (rad)\n",
    "theta2_dot_init = 0.0           # Initial angular velocity (rad/s)\n",
    "\n",
    "# Pack the initial conditions into an array\n",
    "x0 = [theta1_init, theta2_init, theta1_dot_init, theta2_dot_init]\n",
    "\n",
    "# Define the numerical values for all the system constants\n",
    "# and pack them into a list for passing\n",
    "m1 = 10.0\n",
    "m2 = 10.0\n",
    "l1 = 2.0\n",
    "l2 = 2.0 \n",
    "I1 = 1/12 * m1 * l1**2\n",
    "I2 = 1/12 * m2 * l2**2\n",
    "\n",
    "# Define the desired shoulder and elbow angles\n",
    "theta_1_des = 60 * np.pi/180\n",
    "theta_2_des = 60 * np.pi/180\n",
    "\n",
    "# Set the P and D gains. \n",
    "# NOTE: The values here are *not* optimal and were somewhat aribtrarily chosen.\n",
    "#       They need to be tuned. The system should also probably use different\n",
    "#       gains on the two joints. The code here uses the same for both to simplify.\n",
    "kp = 500\n",
    "kd = 100\n",
    "\n",
    "p = [m1, m2, l1, l2, I1, I2, theta_1_des, theta_2_des, kp, kd]\n",
    "\n",
    "# Create the time samples for the output of the ODE solver\n",
    "sim_time = np.linspace(0.0, 5.0, 5001) # 0-10s with 1001 points in between"
   ]
  },
  {
   "cell_type": "code",
   "execution_count": 120,
   "metadata": {},
   "outputs": [],
   "source": [
    "# ODE solver parameters\n",
    "abserr = 1.0e-9\n",
    "relerr = 1.0e-9\n",
    "max_step = 0.01\n",
    "\n",
    "# Call the ODE solver.\n",
    "resp = odeint(eq_of_motion, x0, sim_time, args=(p,), atol=abserr, rtol=relerr,  hmax=max_step)"
   ]
  },
  {
   "cell_type": "code",
   "execution_count": 121,
   "metadata": {},
   "outputs": [
    {
     "data": {
      "image/png": "[encoded data removed]",
      "text/plain": [
       "<matplotlib.figure.Figure at 0x118294588>"
      ]
     },
     "metadata": {},
     "output_type": "display_data"
    }
   ],
   "source": [
    "# Set the plot size - 3x2 aspect ratio is best\n",
    "fig = plt.figure(figsize=(6, 4))\n",
    "ax = plt.gca()\n",
    "plt.subplots_adjust(bottom=0.17, left=0.17, top=0.96, right=0.96)\n",
    "\n",
    "# Change the axis units to serif\n",
    "plt.setp(ax.get_ymajorticklabels(), family='serif', fontsize=18)\n",
    "plt.setp(ax.get_xmajorticklabels(), family='serif', fontsize=18)\n",
    "\n",
    "# Remove top and right axes border\n",
    "ax.spines['right'].set_color('none')\n",
    "ax.spines['top'].set_color('none')\n",
    "\n",
    "# Only show axes ticks on the bottom and left axes\n",
    "ax.xaxis.set_ticks_position('bottom')\n",
    "ax.yaxis.set_ticks_position('left')\n",
    "\n",
    "# Turn on the plot grid and set appropriate linestyle and color\n",
    "ax.grid(True,linestyle=':', color='0.75')\n",
    "ax.set_axisbelow(True)\n",
    "\n",
    "# Define the X and Y axis labels\n",
    "plt.xlabel('Time (s)', family='serif', fontsize=22, weight='bold', labelpad=5)\n",
    "plt.ylabel('Angle (deg)', family='serif', fontsize=22, weight='bold', labelpad=10)\n",
    "\n",
    "# Plot the data\n",
    "plt.plot(sim_time, resp[:, 0] * 180/np.pi, linewidth=2, linestyle='-', label = r'$\\theta_1$')\n",
    "plt.plot(sim_time, resp[:, 1] * 180/np.pi, linewidth=2, linestyle='--', label = r'$\\theta_2$')\n",
    "\n",
    "# uncomment below and set limits if needed\n",
    "# plt.xlim(0, 5)\n",
    "# plt.ylim(-1, 5)\n",
    "\n",
    "# Create the legend, then fix the fontsize\n",
    "leg = plt.legend(loc='upper right', ncol = 2, fancybox=True)\n",
    "ltext  = leg.get_texts()\n",
    "plt.setp(ltext, family='serif', fontsize=20)\n",
    "\n",
    "# Adjust the page layout filling the page using the new tight_layout command\n",
    "plt.tight_layout(pad=0.5)\n",
    "\n",
    "# Uncomment to save the figure as a high-res pdf in the current folder\n",
    "# It's saved at the original 6x4 size\n",
    "# plt.savefig('TwoLinkArm_AngularResponse.pdf')\n",
    "\n",
    "fig.set_size_inches(9, 6) # Resize the figure for better display in the notebook"
   ]
  },
  {
   "cell_type": "code",
   "execution_count": 122,
   "metadata": {
    "collapsed": true
   },
   "outputs": [],
   "source": [
    "# Now, let's define the planar positions of the elbow joint and endpoint\n",
    "# Then, we'll plot them on a planar representation of the workspace\n",
    "elbow_x = l1 * np.cos(resp[:,0])\n",
    "elbow_y = l1 * np.sin(resp[:,0])\n",
    "end_x = elbow_x + l2 * np.cos(resp[:,0] + resp[:,1])\n",
    "end_y = elbow_y + l2 * np.sin(resp[:,0] + resp[:,1])"
   ]
  },
  {
   "cell_type": "code",
   "execution_count": 123,
   "metadata": {},
   "outputs": [
    {
     "data": {
      "image/png": "[encoded data removed]",
      "text/plain": [
       "<matplotlib.figure.Figure at 0x1185267b8>"
      ]
     },
     "metadata": {},
     "output_type": "display_data"
    }
   ],
   "source": [
    "# Set the plot size - 3x2 aspect ratio is best\n",
    "fig = plt.figure(figsize=(6, 4))\n",
    "ax = plt.gca()\n",
    "plt.subplots_adjust(bottom=0.17, left=0.17, top=0.96, right=0.96)\n",
    "\n",
    "# Change the axis units to serif\n",
    "plt.setp(ax.get_ymajorticklabels(), family='serif', fontsize=18)\n",
    "plt.setp(ax.get_xmajorticklabels(), family='serif', fontsize=18)\n",
    "\n",
    "# Remove top and right axes border\n",
    "ax.spines['right'].set_color('none')\n",
    "ax.spines['top'].set_color('none')\n",
    "\n",
    "# Only show axes ticks on the bottom and left axes\n",
    "ax.xaxis.set_ticks_position('bottom')\n",
    "ax.yaxis.set_ticks_position('left')\n",
    "\n",
    "# Turn on the plot grid and set appropriate linestyle and color\n",
    "ax.grid(True,linestyle=':', color='0.75')\n",
    "ax.set_axisbelow(True)\n",
    "\n",
    "# Define the X and Y axis labels\n",
    "plt.xlabel('Horizontal Position (m)', family='serif', fontsize=22, weight='bold', labelpad=5)\n",
    "plt.ylabel('Vertical Position (m)', family='serif', fontsize=22, weight='bold', labelpad=10)\n",
    "\n",
    "# Plot the data\n",
    "plt.plot(elbow_x, elbow_y, linewidth=2, linestyle='-', label = r'Elbow')\n",
    "plt.plot(end_x, end_y, linewidth=2, linestyle='--', label = r'Endpoint')\n",
    "plt.plot(0,0, linestyle='', marker='o', markersize=5, label ='', zorder = 99)\n",
    "\n",
    "# uncomment below and set limits if needed\n",
    "plt.xlim(-4, 4)\n",
    "plt.ylim(-1, 4+1/3)\n",
    "\n",
    "# Create the legend, then fix the fontsize\n",
    "leg = plt.legend(loc='upper right', ncol = 1, fancybox=True)\n",
    "ltext  = leg.get_texts()\n",
    "plt.setp(ltext, family='serif', fontsize=20)\n",
    "\n",
    "# Adjust the page layout filling the page using the new tight_layout command\n",
    "plt.tight_layout(pad=0.5)\n",
    "\n",
    "# Uncomment to save the figure as a high-res pdf in the current folder\n",
    "# It's saved at the original 6x4 size\n",
    "# plt.savefig('TwoLinkArm_PlanarResponse.pdf')\n",
    "\n",
    "fig.set_size_inches(9, 6) # Resize the figure for better display in the notebook"
   ]
  },
  {
   "cell_type": "markdown",
   "metadata": {},
   "source": [
    "<hr class = \"style-end\">"
   ]
  },
  {
   "cell_type": "markdown",
   "metadata": {},
   "source": [
    "#### Licenses\n",
    "Code is licensed under a 3-clause BSD style license. See the licenses/LICENSE.md file.\n",
    "\n",
    "Other content is provided under a [Creative Commons Attribution-NonCommercial 4.0 International License](http://creativecommons.org/licenses/by-nc/4.0/), CC-BY-NC 4.0."
   ]
  },
  {
   "cell_type": "code",
   "execution_count": 78,
   "metadata": {},
   "outputs": [
    {
     "data": {
      "text/html": [
       "<script>\n",
       "    MathJax.Hub.Config({\n",
       "                        TeX: {\n",
       "                           extensions: [\"AMSmath.js\"]\n",
       "                           },\n",
       "                tex2jax: {\n",
       "                    inlineMath: [ ['$','$'], [\"\\\\(\",\"\\\\)\"] ],\n",
       "                    displayMath: [ ['$$','$$'], [\"\\\\[\",\"\\\\]\"] ]\n",
       "                },\n",
       "                displayAlign: 'center', // Change this to 'center' to center equations.\n",
       "                \"HTML-CSS\": {\n",
       "                    styles: {'.MathJax_Display': {\"margin\": 4}}\n",
       "                }\n",
       "        });\n",
       "</script>\n",
       "\n",
       "<style>\n",
       "    @font-face {\n",
       "        font-family: \"Computer Modern\";\n",
       "        src: url('http://mirrors.ctan.org/fonts/cm-unicode/fonts/otf/cmunss.otf');\n",
       "    }\n",
       "    @font-face {\n",
       "        font-family: \"Computer Modern\";\n",
       "        src: url('http://mirrors.ctan.org/fonts/cm-unicode/fonts/otf/cmunsx.otf');\n",
       "        font-weight: bold;\n",
       "    }\n",
       "    @font-face {\n",
       "        font-family: \"Computer Modern\";\n",
       "        src: url('http://mirrors.ctan.org/fonts/cm-unicode/fonts/otf/cmunsi.otf');\n",
       "        font-style: oblique;\n",
       "    }\n",
       "    @font-face {\n",
       "        font-family: \"Computer Modern\";\n",
       "        src: url('http://mirrors.ctan.org/fonts/cm-unicode/fonts/otf/cmunso.otf');\n",
       "        font-weight: bold;\n",
       "        font-style: oblique;\n",
       "    }\n",
       "\n",
       "    div.cell {\n",
       "        max-width: 1100px;\n",
       "    }\n",
       "    \n",
       "    h1 {\n",
       "        font-family: Computer Modern;\n",
       "    }\n",
       "    \n",
       "    h4 {\n",
       "        margin-top: 12px;\n",
       "        margin-bottom: 3px;\n",
       "    }\n",
       "\n",
       "    div.text_cell_render {\n",
       "        font-family: Computer Modern, \"Helvetica Neue\", Arial, Helvetica, Geneva, sans-serif;\n",
       "        line-height: 145%;\n",
       "        font-size: 130%;\n",
       "        width: 100%;\n",
       "        max-width: 1100px;\n",
       "    }\n",
       "    \n",
       "    .CodeMirror {\n",
       "        font-family: \"Source Code Pro\", source-code-pro, Consolas, monospace;\n",
       "    }\n",
       "    \n",
       "    .warning {\n",
       "        color: rgb( 240, 20, 20 )\n",
       "    }  \n",
       "  \n",
       "   \n",
       "    hr.style-end {\n",
       "        border: 0px !important;\n",
       "        height: 1px !important;\n",
       "        text-align: center !important;\n",
       "        background: #333 !important;\n",
       "        background-image: -webkit-linear-gradient(left, #ccc, #333, #ccc) !important; \n",
       "        background-image:    -moz-linear-gradient(left, #ccc, #333, #ccc) !important; \n",
       "        background-image:     -ms-linear-gradient(left, #ccc, #333, #ccc) !important; \n",
       "        background-image:      -o-linear-gradient(left, #ccc, #333, #ccc) !important; \n",
       "    }\n",
       "\n",
       "    hr.style-end:after {\n",
       "        content: &#x269C !important;\n",
       "        left: 50% !important;\n",
       "        position: absolute !important;\n",
       "        /* Controls the whitespace around the symbol */\n",
       "        padding: 0px !important;\n",
       "        background: #fff !important;\n",
       "    }\n",
       "    \n",
       "/*  Center figures, etc\n",
       "    .ui-wrapper {\n",
       "        margin-left: auto !important;\n",
       "        margin-right: auto !important;\n",
       "    }\n",
       "*/\n",
       "    \n",
       "</style>\n"
      ],
      "text/plain": [
       "<IPython.core.display.HTML object>"
      ]
     },
     "execution_count": 78,
     "metadata": {},
     "output_type": "execute_result"
    }
   ],
   "source": [
    "# This cell will just improve the styling of the notebook\n",
    "# You can ignore it, if you are okay with the default sytling\n",
    "from IPython.core.display import HTML\n",
    "import urllib.request\n",
    "response = urllib.request.urlopen(\"https://cl.ly/1B1y452Z1d35\")\n",
    "HTML(response.read().decode(\"utf-8\"))"
   ]
  }
 ],
 "metadata": {
  "kernelspec": {
   "display_name": "Python 3",
   "language": "python",
   "name": "python3"
  },
  "language_info": {
   "codemirror_mode": {
    "name": "ipython",
    "version": 3
   },
   "file_extension": ".py",
   "mimetype": "text/x-python",
   "name": "python",
   "nbconvert_exporter": "python",
   "pygments_lexer": "ipython3",
   "version": "3.6.2"
  }
 },
 "nbformat": 4,
 "nbformat_minor": 2
}
