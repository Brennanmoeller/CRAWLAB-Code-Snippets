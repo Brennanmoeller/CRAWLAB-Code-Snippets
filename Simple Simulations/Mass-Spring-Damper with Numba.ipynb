{
 "cells": [
  {
   "cell_type": "markdown",
   "metadata": {},
   "source": [
    "<h1 style=\"text-align:center\">Simluation of a Simple Mass-Spring-Damper System <br> with a Disturbance Force</h1>\n",
    "<p style=\"text-align:center\">Dr. Joshua Vaughan <br>\n",
    "<a href=\"mailto:joshua.vaughan@louisiana.edu\">joshua.vaughan@louisiana.edu</a><br>\n",
    "http://www.ucs.louisiana.edu/~jev9637/   </p>"
   ]
  },
  {
   "cell_type": "markdown",
   "metadata": {},
   "source": [
    "<p style=\"text-align:center\">\n",
    "\t<img src=\"http://shared.crawlab.org/MassSpringDamper_SeismicWithDisturbance_Horiz.png\" alt=\"A Mass-Spring-Damper System with a Disturbance Force\" width=50%/></a><br>\n",
    "    <strong> Figure 1: A Mass-Spring-Damper System with a Disturbance Force</strong>\n",
    "</p>\n",
    "\n",
    "This notebook simluates a the simple mass-spring-damper model like the one shown in Figure 1. The system has both a position input $y(t)$ and a force input, $f(t)$. This system could also be used to model the position control of a mass via a Proportional Derivative (PD) controller.\n",
    "\n",
    "The equationof motion for this system is:\n",
    "\n",
    "$ \\quad m\\ddot{x} + c \\dot{x} + k x = c \\dot{y} + k y - f $\n",
    "\n",
    "We can also rewrie this in terms of damping ratio, $\\zeta$, and natural frequency, $\\omega_n$:\n",
    "\n",
    "$ \\quad \\ddot{x} + 2 \\zeta \\omega_n \\dot{x} + \\omega_n^2 x = \\zeta \\omega_n \\dot{y} + \\omega_n^2 y - \\frac{f}{m} $\n",
    "\n",
    "However, as we'll see below, we often will collect terms so that our ''motion'' variable are all on the left-hand side, like:\n",
    "\n",
    "$ \\quad \\ddot{x} = \\frac{k}{m}\\left( y - x \\right) + \\frac{c}{m} \\left(\\dot{y} - \\dot{x} \\right) - \\frac{f}{m} $\n"
   ]
  },
  {
   "cell_type": "code",
   "execution_count": 1,
   "metadata": {},
   "outputs": [],
   "source": [
    "import numpy as np"
   ]
  },
  {
   "cell_type": "code",
   "execution_count": 2,
   "metadata": {},
   "outputs": [],
   "source": [
    "%matplotlib inline\n",
    "\n",
    "import matplotlib.pyplot as plt"
   ]
  },
  {
   "cell_type": "code",
   "execution_count": 3,
   "metadata": {},
   "outputs": [],
   "source": [
    "# Import the ODE solver\n",
    "from scipy.integrate import odeint"
   ]
  },
  {
   "cell_type": "markdown",
   "metadata": {},
   "source": [
    "## Numba JIT\n",
    "We're going to try to speed up the ode solution using [Numba](https://numba.pydata.org) [just in time complilation (jit)](http://numba.pydata.org/numba-doc/dev/reference/jit-compilation.html). For this simple system of equations, we might not see real improvements, but several have reported speedups:\n",
    "\n",
    "* https://gist.github.com/moble/3aa44230256b66956587\n",
    "* https://stackoverflow.com/questions/42838103/how-can-i-use-cython-well-to-solve-a-differential-equation-faster"
   ]
  },
  {
   "cell_type": "code",
   "execution_count": 4,
   "metadata": {
    "collapsed": true
   },
   "outputs": [],
   "source": [
    "from numba import jit"
   ]
  },
  {
   "cell_type": "markdown",
   "metadata": {},
   "source": [
    "## Functions defining the equations of motion and inputs\n",
    "We will first define the functions that define the equations of motion and the inputs. One \"trick\" that we will use is to define $y(t)$ and $\\dot{y}(t)$ as states. This allows us to specifiy an acceleration input $\\ddot{y}(t)$, which gets propogated to the $y(t)$ and $\\dot{y}(t)$ via the equations of motion (or state-transition matrix if we were solving in \"true\" matrix-based state-space form).\n",
    "\n",
    "So, we can then define our states as vector $ \\bar{w} = \\left[x \\ \\dot{x} \\  y \\ \\dot{y}\\right]^T $ and the inputs as $\\bar{u} = \\left[\\ddot{y} \\ f \\right]$.\n",
    "\n",
    "Then the system of first-order ODEs we have to solve is:\n",
    "\n",
    "$ \\quad \\dot{\\bar{w}} = g(\\bar{w}, \\bar{u}, t) $\n",
    "\n",
    "Writing these out, we have:\n",
    "\n",
    "$ \\quad \\dot{\\bar{w}}  = \\left[\\dot{x} \\right.$\n",
    "\n",
    "$\\phantom{\\quad \\dot{\\bar{w}}  = \\left[\\right.} \\frac{k}{m}(y - x) + \\frac{c}{m}\\left(\\dot{y} - \\dot{x}\\right) - \\frac{f}{m} $\n",
    "\n",
    "$\\phantom{\\quad \\dot{\\bar{w}}  = \\left[\\right.} \\dot{y}$\n",
    "\n",
    "$\\phantom{\\quad \\dot{\\bar{w}}  = \\left[\\right.} \\left.\\ddot{y}\\right]$\n",
    "\n",
    "Notice that the $\\ddot{y}$ in the last line is what we get to specify to generate the position input. In addition to allowing us to only specify one input that gets propograted to y and $\\dot{y}$, describing inputs in the acceleration domain is often preferrable. This is because representing a realistic input in this domain is often easier than in the position or velocity domain."
   ]
  },
  {
   "cell_type": "code",
   "execution_count": 5,
   "metadata": {},
   "outputs": [],
   "source": [
    "def eq_of_motion(w, t, p):\n",
    "    \"\"\"\n",
    "    Defines the differential equations for the coupled spring-mass system.\n",
    "\n",
    "    Arguments:\n",
    "        w :  vector of the state variables:\n",
    "        t :  time\n",
    "        p :  vector of the parameters:\n",
    "    \"\"\"\n",
    "    x, x_dot, y, y_dot = w\n",
    "    m, k, c, Distance, StartTime, Amax, Vmax, DistStart, F_amp = p\n",
    "\n",
    "    # Create sysODE = (x', x_dot', y', y_dot')\n",
    "    sysODE = [x_dot,\n",
    "             k/m * (y - x) + c/m * (y_dot - x_dot) - f(t, p)/m,\n",
    "             y_dot,\n",
    "             y_ddot(t, p)]\n",
    "    return sysODE\n",
    "\n",
    "\n",
    "def f(t, p):\n",
    "    \"\"\"\n",
    "    defines the disturbance force input to the system\n",
    "    \"\"\"\n",
    "    m, k, c, Distance, StartTime, Amax, Vmax, DistStart, F_amp = p\n",
    "    \n",
    "    # Select one of the two inputs below\n",
    "    # Be sure to comment out the one you're not using\n",
    "    \n",
    "    # Input Option 1: \n",
    "    #    Just a step in force beginning at t=DistStart\n",
    "    # f = F_amp * (t >= DistStart)\n",
    "    \n",
    "    # Input Option 2:\n",
    "    #    A pulse in force beginning at t=DistStart and ending at t=(DistStart+0.1)\n",
    "    f = F_amp * (t >= DistStart) * (t <= DistStart + 0.1)\n",
    "    \n",
    "    return f\n",
    "\n",
    "\n",
    "def y_ddot(t, p):\n",
    "    \"\"\"\n",
    "    Defines the accel input to the system.\n",
    "    \n",
    "    Depending on the desired move distance, max accel, and max velocity, the input is either\n",
    "    bang-bang or bang-coast-bang\n",
    "    \"\"\"\n",
    "    m, k, c, Distance, StartTime, Amax, Vmax, DistStart, F_amp = p\n",
    "    \n",
    "    # These are the times for a bang-coast-bang input \n",
    "    t1 = StartTime\n",
    "    t2 = (Vmax/Amax) + t1\n",
    "    t3 = (Distance/Vmax) + t1\n",
    "    t4 = (t2 + t3) - t1\n",
    "    \n",
    "    if t3 <= t2: # command should be bang-bang, not bang-coast-bang\n",
    "        t2 = np.sqrt(Distance/Amax)+t1\n",
    "        t3 = 2*np.sqrt(Distance/Amax)+t1\n",
    "        \n",
    "        accel = Amax*(t > t1) - 2*Amax*(t > t2) + Amax*(t > t3)\n",
    "    \n",
    "    else: # command is bang-coast-bang\n",
    "        accel = Amax*(t > t1) - Amax*(t > t2) - Amax*(t > t3) + Amax*(t > t4)\n",
    "\n",
    "    return accel"
   ]
  },
  {
   "cell_type": "code",
   "execution_count": 6,
   "metadata": {},
   "outputs": [],
   "source": [
    "# Define the parameters for simluation\n",
    "m = 1.0                      # mass (kg)\n",
    "k = (1.0*2*np.pi)**2             # spring constant (N/m)\n",
    "\n",
    "wn = np.sqrt(k/m)            # natural frequency (rad/s)\n",
    "\n",
    "# Select damping ratio and use it to choose an appropriate c\n",
    "zeta = 0.05                   # damping ratio\n",
    "c = 2*zeta*wn*m              # damping coeff.\n",
    "\n",
    "# ODE solver parameters\n",
    "abserr = 1.0e-9\n",
    "relerr = 1.0e-9\n",
    "max_step = 0.01\n",
    "stoptime = 10.0\n",
    "numpoints = 10001\n",
    "\n",
    "# Create the time samples for the output of the ODE solver\n",
    "t = np.linspace(0.0,stoptime,numpoints)\n",
    "\n",
    "# Initial conditions\n",
    "x_init = 0.0                        # initial position\n",
    "x_dot_init = 0.0                    # initial velocity\n",
    "y_init = 0.0\n",
    "y_dot_init = 0.0\n",
    "\n",
    "# Set up the parameters for the input function\n",
    "Distance = 1.0               # Desired move distance (m)\n",
    "Amax = 20.0                   # acceleration limit (m/s^2)\n",
    "Vmax = 2.0                   # velocity limit (m/s)\n",
    "StartTime = 0.5              # Time the y(t) input will begin\n",
    "DistStart = 4.5              # Time the disturbance input will begin\n",
    "F_amp = 100.0                 # Amplitude of Disturbance force (N)\n",
    "\n",
    "# Pack the parameters and initial conditions into arrays \n",
    "p = [m, k, c, Distance, StartTime, Amax, Vmax, DistStart, F_amp]\n",
    "x0 = [x_init, x_dot_init, y_init, y_dot_init]"
   ]
  },
  {
   "cell_type": "markdown",
   "metadata": {},
   "source": [
    "We'll use the Jupyter Notebook `%timeit` magic to run the solution 10 times and get an average solution time. We simple prepend the code with want to run with `%timeit -n 100 -r 10`, where the `-n 100 -r 10` option specifies the number of times to run the code."
   ]
  },
  {
   "cell_type": "code",
   "execution_count": 7,
   "metadata": {},
   "outputs": [
    {
     "name": "stdout",
     "output_type": "stream",
     "text": [
      "21.9 ms ± 846 µs per loop (mean ± std. dev. of 10 runs, 100 loops each)\n"
     ]
    }
   ],
   "source": [
    "%timeit -n 100 -r 10 odeint(eq_of_motion, x0, t, args=(p,), atol=abserr, rtol=relerr,  hmax=max_step)"
   ]
  },
  {
   "cell_type": "code",
   "execution_count": 8,
   "metadata": {
    "collapsed": true
   },
   "outputs": [],
   "source": [
    "# Run one more time to store the response\n",
    "resp = odeint(eq_of_motion, x0, t, args=(p,), atol=abserr, rtol=relerr, hmax=max_step)"
   ]
  },
  {
   "cell_type": "markdown",
   "metadata": {},
   "source": [
    "On my MacBook Pro, this solution took about 22ms per loop for 10 runs. \n",
    "\n",
    "Now, let's create the Numba jit versions of the functions needed for the differential equations and see how long their soltuion takes.\n",
    "\n",
    "To do so, we can simply decorate each function with `@jit`. We will also need to make sure that all the parameters any list in the code have the same type (Here, that's the parameter list `p`.). In our case, the only offenders were parameters that used the `numpy.pi` constant, which results in them being type `numpy.float` rather than `float`. The code below corrects that."
   ]
  },
  {
   "cell_type": "code",
   "execution_count": 9,
   "metadata": {},
   "outputs": [],
   "source": [
    "for index, i in enumerate(p):\n",
    "    p[index] = float(i)"
   ]
  },
  {
   "cell_type": "code",
   "execution_count": 10,
   "metadata": {},
   "outputs": [],
   "source": [
    "@jit\n",
    "def eq_of_motion(w, t, p):\n",
    "    \"\"\"\n",
    "    Defines the differential equations for the coupled spring-mass system.\n",
    "\n",
    "    Arguments:\n",
    "        w :  vector of the state variables:\n",
    "        t :  time\n",
    "        p :  vector of the parameters:\n",
    "    \"\"\"\n",
    "    x, x_dot, y, y_dot = w\n",
    "    m, k, c, Distance, StartTime, Amax, Vmax, DistStart, F_amp = p\n",
    "\n",
    "    # Create sysODE = (x', x_dot', y', y_dot')\n",
    "    sysODE = [x_dot,\n",
    "             k/m * (y - x) + c/m * (y_dot - x_dot) - f(t, p)/m,\n",
    "             y_dot,\n",
    "             y_ddot(t, p)]\n",
    "    return sysODE\n",
    "\n",
    "@jit\n",
    "def f(t, p):\n",
    "    \"\"\"\n",
    "    defines the disturbance force input to the system\n",
    "    \"\"\"\n",
    "    m, k, c, Distance, StartTime, Amax, Vmax, DistStart, F_amp = p\n",
    "    \n",
    "    # Select one of the two inputs below\n",
    "    # Be sure to comment out the one you're not using\n",
    "    \n",
    "    # Input Option 1: \n",
    "    #    Just a step in force beginning at t=DistStart\n",
    "    # f = F_amp * (t >= DistStart)\n",
    "    \n",
    "    # Input Option 2:\n",
    "    #    A pulse in force beginning at t=DistStart and ending at t=(DistStart+0.1)\n",
    "    f = F_amp * (t >= DistStart) * (t <= DistStart + 0.1)\n",
    "    \n",
    "    return f\n",
    "\n",
    "@jit\n",
    "def y_ddot(t, p):\n",
    "    \"\"\"\n",
    "    Defines the accel input to the system.\n",
    "    \n",
    "    Depending on the desired move distance, max accel, and max velocity, the input is either\n",
    "    bang-bang or bang-coast-bang\n",
    "    \"\"\"\n",
    "    m, k, c, Distance, StartTime, Amax, Vmax, DistStart, F_amp = p\n",
    "    \n",
    "    # These are the times for a bang-coast-bang input \n",
    "    t1 = StartTime\n",
    "    t2 = (Vmax/Amax) + t1\n",
    "    t3 = (Distance/Vmax) + t1\n",
    "    t4 = (t2 + t3) - t1\n",
    "    \n",
    "    if t3 <= t2: # command should be bang-bang, not bang-coast-bang\n",
    "        t2 = np.sqrt(Distance/Amax)+t1\n",
    "        t3 = 2*np.sqrt(Distance/Amax)+t1\n",
    "        \n",
    "        accel = Amax*(t > t1) - 2*Amax*(t > t2) + Amax*(t > t3)\n",
    "    \n",
    "    else: # command is bang-coast-bang\n",
    "        accel = Amax*(t > t1) - Amax*(t > t2) - Amax*(t > t3) + Amax*(t > t4)\n",
    "\n",
    "    return accel"
   ]
  },
  {
   "cell_type": "markdown",
   "metadata": {},
   "source": [
    "Now, let's run the solution using the `%timeit` magic again."
   ]
  },
  {
   "cell_type": "code",
   "execution_count": 11,
   "metadata": {},
   "outputs": [
    {
     "name": "stdout",
     "output_type": "stream",
     "text": [
      "15.8 ms ± 1.74 ms per loop (mean ± std. dev. of 10 runs, 100 loops each)\n"
     ]
    }
   ],
   "source": [
    "%timeit -n 100 -r 10 odeint(eq_of_motion, x0, t, args=(p,), atol=abserr, rtol=relerr, hmax=max_step)"
   ]
  },
  {
   "cell_type": "markdown",
   "metadata": {},
   "source": [
    "On my oldish MacBook Pro the `@jit` version of the solution averaged $\\approx$16ms per loop, about 72% of the time required by the pure Python solution. This is a pretty good speedup for such a simple set of equations and so littel extra work. The improvements should be even higher for more complex systems.\n",
    "\n",
    "Now, let's print the results to make sure the two methods reached the same solution."
   ]
  },
  {
   "cell_type": "code",
   "execution_count": 12,
   "metadata": {
    "collapsed": true
   },
   "outputs": [],
   "source": [
    "# Run one more time to store the response\n",
    "resp_jit = odeint(eq_of_motion, x0, t, args=(p,), atol=abserr, rtol=relerr, hmax=max_step)"
   ]
  },
  {
   "cell_type": "code",
   "execution_count": 13,
   "metadata": {},
   "outputs": [
    {
     "data": {
      "image/png": "[encoded data removed]",
      "text/plain": [
       "<matplotlib.figure.Figure at 0x115f5ea90>"
      ]
     },
     "metadata": {},
     "output_type": "display_data"
    }
   ],
   "source": [
    "# Make the figure pretty, then plot the results\n",
    "#   \"pretty\" parameters selected based on pdf output, not screen output\n",
    "#   Many of these setting could also be made default by the .matplotlibrc file\n",
    "fig = plt.figure(figsize=(6,4))\n",
    "ax = plt.gca()\n",
    "plt.subplots_adjust(bottom=0.17,left=0.17,top=0.96,right=0.96)\n",
    "plt.setp(ax.get_ymajorticklabels(),family='serif',fontsize=18)\n",
    "plt.setp(ax.get_xmajorticklabels(),family='serif',fontsize=18)\n",
    "ax.spines['right'].set_color('none')\n",
    "ax.spines['top'].set_color('none')\n",
    "ax.xaxis.set_ticks_position('bottom')\n",
    "ax.yaxis.set_ticks_position('left')\n",
    "ax.grid(True,linestyle=':',color='0.75')\n",
    "ax.set_axisbelow(True)\n",
    "\n",
    "plt.xlabel('Time (s)',family='serif',fontsize=22,weight='bold',labelpad=5)\n",
    "plt.ylabel('Position (m)',family='serif',fontsize=22,weight='bold',labelpad=10)\n",
    "plt.ylim(-0.75, 2.75)\n",
    "\n",
    "# plot the response\n",
    "plt.plot(t,resp[:,0], linewidth=2, linestyle = '-', label=r'$x$')\n",
    "plt.plot(t,resp[:,2], linewidth=2, linestyle = '--', label=r'$y$')\n",
    "plt.plot(t,resp_jit[:,0], linewidth=2, linestyle = '-.', label=r'$x$ -- @jit')\n",
    "plt.plot(t,resp_jit[:,2], linewidth=2, linestyle = ':', label=r'$y$ -- @jit')\n",
    "\n",
    "# If there is a non-zero force disturbance show where it began via an annotation\n",
    "if F_amp > 0:\n",
    "    plt.annotate('Force Disturbance \\nBegins',\n",
    "         xy=(DistStart,resp[-1,2]), xycoords='data',\n",
    "         ha='center',\n",
    "         xytext=(DistStart, 1.05*np.max(resp[:,0])), textcoords='data', fontsize=16,\n",
    "         arrowprops=dict(arrowstyle=\"simple, head_width = 0.35, tail_width=0.05\", connectionstyle=\"arc3\", color=\"black\"),color = \"black\")\n",
    "    \n",
    "\n",
    "leg = plt.legend(loc='upper right', ncol=2, fancybox=True)\n",
    "ltext  = leg.get_texts() \n",
    "plt.setp(ltext,family='Serif',fontsize=16)\n",
    "\n",
    "# Adjust the page layout filling the page using the new tight_layout command\n",
    "plt.tight_layout(pad=0.5)\n",
    "\n",
    "# If you want to save the figure, uncomment the commands below. \n",
    "# The figure will be saved in the same directory as your IPython notebook.\n",
    "# Save the figure as a high-res pdf in the current folder\n",
    "# plt.savefig('MassSpringDamper_Disturbance_Resp.pdf')\n",
    "\n",
    "fig.set_size_inches(9,6) # Resize the figure for better display in the notebook"
   ]
  },
  {
   "cell_type": "markdown",
   "metadata": {},
   "source": [
    "As we would hope, the two responses match."
   ]
  },
  {
   "cell_type": "markdown",
   "metadata": {},
   "source": [
    "<hr class = \"style-end\">"
   ]
  },
  {
   "cell_type": "markdown",
   "metadata": {},
   "source": [
    "#### Licenses\n",
    "Code is licensed under a 3-clause BSD-style license. See the licenses/LICENSE.md file.\n",
    "\n",
    "Other content is provided under a [Creative Commons Attribution-NonCommercial 4.0 International License](http://creativecommons.org/licenses/by-nc/4.0/), CC-BY-NC 4.0."
   ]
  },
  {
   "cell_type": "code",
   "execution_count": 14,
   "metadata": {},
   "outputs": [
    {
     "data": {
      "text/html": [
       "<script>\n",
       "    MathJax.Hub.Config({\n",
       "                        TeX: {\n",
       "                           extensions: [\"AMSmath.js\"]\n",
       "                           },\n",
       "                tex2jax: {\n",
       "                    inlineMath: [ ['$','$'], [\"\\\\(\",\"\\\\)\"] ],\n",
       "                    displayMath: [ ['$$','$$'], [\"\\\\[\",\"\\\\]\"] ]\n",
       "                },\n",
       "                displayAlign: 'center', // Change this to 'center' to center equations.\n",
       "                \"HTML-CSS\": {\n",
       "                    styles: {'.MathJax_Display': {\"margin\": 4}}\n",
       "                }\n",
       "        });\n",
       "</script>\n",
       "\n",
       "<style>\n",
       "    @font-face {\n",
       "        font-family: \"Computer Modern\";\n",
       "        src: url('http://mirrors.ctan.org/fonts/cm-unicode/fonts/otf/cmunss.otf');\n",
       "    }\n",
       "    @font-face {\n",
       "        font-family: \"Computer Modern\";\n",
       "        src: url('http://mirrors.ctan.org/fonts/cm-unicode/fonts/otf/cmunsx.otf');\n",
       "        font-weight: bold;\n",
       "    }\n",
       "    @font-face {\n",
       "        font-family: \"Computer Modern\";\n",
       "        src: url('http://mirrors.ctan.org/fonts/cm-unicode/fonts/otf/cmunsi.otf');\n",
       "        font-style: oblique;\n",
       "    }\n",
       "    @font-face {\n",
       "        font-family: \"Computer Modern\";\n",
       "        src: url('http://mirrors.ctan.org/fonts/cm-unicode/fonts/otf/cmunso.otf');\n",
       "        font-weight: bold;\n",
       "        font-style: oblique;\n",
       "    }\n",
       "\n",
       "    div.cell {\n",
       "        max-width: 1100px;\n",
       "    }\n",
       "    \n",
       "    h1 {\n",
       "        font-family: Computer Modern;\n",
       "    }\n",
       "    \n",
       "    h4 {\n",
       "        margin-top: 12px;\n",
       "        margin-bottom: 3px;\n",
       "    }\n",
       "\n",
       "    div.text_cell_render {\n",
       "        font-family: Computer Modern, \"Helvetica Neue\", Arial, Helvetica, Geneva, sans-serif;\n",
       "        line-height: 145%;\n",
       "        font-size: 130%;\n",
       "        width: 100%;\n",
       "        max-width: 1100px;\n",
       "    }\n",
       "    \n",
       "    .CodeMirror {\n",
       "        font-family: \"Source Code Pro\", source-code-pro, Consolas, monospace;\n",
       "    }\n",
       "    \n",
       "    .warning {\n",
       "        color: rgb( 240, 20, 20 )\n",
       "    }  \n",
       "  \n",
       "   \n",
       "    hr.style-end {\n",
       "        border: 0px;\n",
       "        height: 1px;\n",
       "        text-align: center;\n",
       "        background: #333;\n",
       "        background-image: -webkit-linear-gradient(left, #ccc, #333, #ccc); \n",
       "        background-image:    -moz-linear-gradient(left, #ccc, #333, #ccc); \n",
       "        background-image:     -ms-linear-gradient(left, #ccc, #333, #ccc); \n",
       "        background-image:      -o-linear-gradient(left, #ccc, #333, #ccc); \n",
       "    }\n",
       "\n",
       "    hr.style-end:after {\n",
       "        content: &#x269C;\n",
       "        left: 50%;\n",
       "        position: absolute;\n",
       "        /* Controls the whitespace around the symbol */\n",
       "        padding: 0px;\n",
       "        background: #fff;\n",
       "    }\n",
       "    \n",
       "/*  Center figures, etc\n",
       "    .ui-wrapper {\n",
       "        margin-left: auto !important;\n",
       "        margin-right: auto !important;\n",
       "    }\n",
       "*/\n",
       "    \n",
       "</style>\n"
      ],
      "text/plain": [
       "<IPython.core.display.HTML object>"
      ]
     },
     "execution_count": 14,
     "metadata": {},
     "output_type": "execute_result"
    }
   ],
   "source": [
    "# This cell will just improve the styling of the notebook\n",
    "# You can ignore it, if you are okay with the default sytling\n",
    "from IPython.core.display import HTML\n",
    "import urllib.request\n",
    "response = urllib.request.urlopen(\"https://cl.ly/1B1y452Z1d35\")\n",
    "HTML(response.read().decode(\"utf-8\"))"
   ]
  }
 ],
 "metadata": {
  "kernelspec": {
   "display_name": "Python 3",
   "language": "python",
   "name": "python3"
  },
  "language_info": {
   "codemirror_mode": {
    "name": "ipython",
    "version": 3
   },
   "file_extension": ".py",
   "mimetype": "text/x-python",
   "name": "python",
   "nbconvert_exporter": "python",
   "pygments_lexer": "ipython3",
   "version": "3.6.2"
  }
 },
 "nbformat": 4,
 "nbformat_minor": 1
}
