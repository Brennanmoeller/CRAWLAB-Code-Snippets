{
 "metadata": {
  "name": "",
  "signature": "sha256:328b2711cb2b2cde11ddbb84a9190273a31fd4083ca41502b612d439691acc96"
 },
 "nbformat": 3,
 "nbformat_minor": 0,
 "worksheets": [
  {
   "cells": [
    {
     "cell_type": "markdown",
     "metadata": {},
     "source": [
      "<h1 style=\"text-align:center\">Bang-Bang and Bang-Coast-Bang Commands</h1>\n",
      "<p style=\"text-align:center\">Dr. Joshua Vaughan <br>\n",
      "<a href=\"mailto:joshua.vaughan@louisiana.edu\">joshua.vaughan@louisiana.edu</a><br>\n",
      "http://www.ucs.louisiana.edu/~jev9637/   </p>"
     ]
    },
    {
     "cell_type": "code",
     "collapsed": false,
     "input": [
      "import numpy as np"
     ],
     "language": "python",
     "metadata": {},
     "outputs": [],
     "prompt_number": 1
    },
    {
     "cell_type": "code",
     "collapsed": false,
     "input": [
      "%matplotlib inline \n",
      "\n",
      "import matplotlib.pyplot as plt"
     ],
     "language": "python",
     "metadata": {},
     "outputs": [],
     "prompt_number": 2
    },
    {
     "cell_type": "markdown",
     "metadata": {},
     "source": [
      "Let's define a function that will create Bang-Bang or Bang-coast-bang inputs for us. We often think of these types of inputs a acceleration inputs (or force, F=ma, right?). So, we want the function to have arugments for maximum acceleration and maximum velocity. The final key arguemnt to the function will be the desired move distance."
     ]
    },
    {
     "cell_type": "code",
     "collapsed": false,
     "input": [
      "def accel_input(Amax, Vmax, Distance, CurrTime, StartTime = 0.0):\n",
      "    \"\"\"\n",
      "    accel_input(Amax, Vmax, Distance, CurrTime, StartTime = 0.0) \n",
      "    \n",
      "    Creates a bang-bang or bang-coast-bang input\n",
      "\n",
      "    Arguments:\n",
      "      Amax : maximum accel, assumed to besymmetric +/-\n",
      "      Vmax : maximum velocity, assumed to be symmetric in +/-\n",
      "      Distance : desired travel distance \n",
      "      StartTime : Time command should begin, default is 0.0, \n",
      "                   but it's often good to move away from the y-axis for plotting\n",
      "      CurrTime = current time \n",
      "       \n",
      "    Returns: \n",
      "      The acceleration at a given timestep, CurrTime\n",
      "\n",
      "     Assumptions:\n",
      "       * +/- maximums are of same amplitude\n",
      "       * command will begin at StartTime (default = 0)\n",
      "       * rest-to-rest bang-coast-bang move (before shaping)\n",
      "\n",
      "     Created: 9/23/11 - Joshua Vaughan - vaughanje@gatech.edu\n",
      "\n",
      "     Modified: \n",
      "        * 10/11/11\n",
      "            - Added hard-coded shaping option - JEV (vaughanje@gatech.edu)\n",
      "            - embedded into shaped_jumping.m for use there\n",
      "        * 3/3/13 - JEV - joshua.vaughan@louisiana.edu\n",
      "            - Converted from MATLAB to Python\n",
      "        * 3/26/14 - JEV - joshua.vaughan@louisiana.edu\n",
      "            - Updated commenting and corrected types\n",
      "        * 01/27/15 - JEV - joshua.vaughan@louisiana.edu\n",
      "            - Removed the shaping portion of the original function, it belongs in a separate function\n",
      "    \"\"\"\n",
      "\n",
      "    # These are the times for a bang-coast-bang input \n",
      "    t1 = StartTime\n",
      "    t2 = (Vmax/Amax) + t1\n",
      "    t3 = (Distance/Vmax) + t1\n",
      "    t4 = (t2 + t3)-t1\n",
      "    end_time = t4\n",
      "\n",
      "    if t3 <= t2: # command should be bang-bang, not bang-coast-bang\n",
      "        t2 = np.sqrt(Distance/Amax)+t1\n",
      "        t3 = 2.0 * np.sqrt(Distance/Amax)+t1\n",
      "        end_time = t3\n",
      "\n",
      "        accel = Amax*(CurrTime > t1) - 2*Amax*(CurrTime > t2) + Amax*(CurrTime > t3)\n",
      "\n",
      "    else: # command is bang-coast-bang\n",
      "        accel = Amax*(CurrTime > t1) - Amax*(CurrTime > t2) - Amax*(CurrTime > t3) + Amax*(CurrTime > t4)\n",
      "\n",
      "    return accel"
     ],
     "language": "python",
     "metadata": {},
     "outputs": [],
     "prompt_number": 3
    },
    {
     "cell_type": "markdown",
     "metadata": {},
     "source": [
      "Now, let's look at a few examples."
     ]
    },
    {
     "cell_type": "code",
     "collapsed": false,
     "input": [
      "# Define the input parameters\n",
      "\n",
      "t = np.linspace(0,5,501) # The time vector (here 0-5 seconds with 501 samples)\n",
      "\n",
      "accel_max = 1.0     # The command's maximum velcoity (m/s^2)\n",
      "vel_max = 0.35      # The command's maximum velcoity (m/s)\n",
      "dist_desired = 1.0  # How far to move (m)"
     ],
     "language": "python",
     "metadata": {},
     "outputs": [],
     "prompt_number": 4
    },
    {
     "cell_type": "markdown",
     "metadata": {},
     "source": [
      "Now we'll create the input, by calling our accel_input() function. If our time vector is an array, we can sent the entire array to the funciton and get an array in return."
     ]
    },
    {
     "cell_type": "code",
     "collapsed": false,
     "input": [
      "accel = accel_input(accel_max, vel_max, dist_desired, t)"
     ],
     "language": "python",
     "metadata": {},
     "outputs": [],
     "prompt_number": 5
    },
    {
     "cell_type": "code",
     "collapsed": false,
     "input": [
      "# Now, let's plot the result\n",
      "\n",
      "# Set the plot size - 3x2 aspect ratio is best\n",
      "fig = plt.figure(figsize=(6, 4))\n",
      "ax = plt.gca()\n",
      "plt.subplots_adjust(bottom=0.17, left=0.17, top=0.96, right=0.96)\n",
      "\n",
      "# Change the axis units to serif\n",
      "plt.setp(ax.get_ymajorticklabels(), family='serif', fontsize=18)\n",
      "plt.setp(ax.get_xmajorticklabels(), family='serif', fontsize=18)\n",
      "\n",
      "ax.spines['right'].set_color('none')\n",
      "ax.spines['top'].set_color('none')\n",
      "\n",
      "ax.xaxis.set_ticks_position('bottom')\n",
      "ax.yaxis.set_ticks_position('left')\n",
      "\n",
      "# Turn on the plot grid and set appropriate linestyle and color\n",
      "ax.grid(True,linestyle=':', color='0.75')\n",
      "ax.set_axisbelow(True)\n",
      "\n",
      "# Define the X and Y axis labels\n",
      "plt.xlabel('Time (s)', family='serif', fontsize=22, weight='bold', labelpad=5)\n",
      "plt.ylabel(r'Acceleration $(\\frac{m}{s^2})$', family='serif', fontsize=22, weight='bold', labelpad=10)\n",
      "\n",
      "plt.plot(t, accel, linewidth=2, linestyle='-', label=r'Acceleration Input')\n",
      "\n",
      "# uncomment below and set limits if needed\n",
      "# plt.xlim(0, 5)\n",
      "# plt.ylim(0, 10)\n",
      "\n",
      "# Create the legend, then fix the fontsize\n",
      "# leg = plt.legend(loc='upper right', ncol = 1, fancybox=True)\n",
      "# ltext  = leg.get_texts()\n",
      "# plt.setp(ltext, family='serif', fontsize=20)\n",
      "\n",
      "# Adjust the page layout filling the page using the new tight_layout command\n",
      "plt.tight_layout(pad=0.5)\n",
      "\n",
      "# Uncomment to save the figure as a high-res pdf in the current folder\n",
      "# It's saved at the original 6x4 size\n",
      "# plt.savefig('Example_AccelInput.pdf')\n",
      "\n",
      "fig.set_size_inches(9, 6) # Resize the figure for better display in the notebook"
     ],
     "language": "python",
     "metadata": {},
     "outputs": [
      {
       "metadata": {},
       "output_type": "display_data",
       "png": "[encoded data removed]",
       "text": [
        "<matplotlib.figure.Figure at 0x10ec30a10>"
       ]
      }
     ],
     "prompt_number": 6
    },
    {
     "cell_type": "markdown",
     "metadata": {},
     "source": [
      "Notice that, for this set of parameters, we've created a bang-coast-bang command. We reach maximum velocity before we've made it halfway to our desired move distance. Let's increasse the maximum velocity. We should be able to generate a bang-bang command if it's high-enough"
     ]
    },
    {
     "cell_type": "code",
     "collapsed": false,
     "input": [
      "vel_max = 5.0      # The command's maximum velcoity (m/s) \n",
      "\n",
      "# Create the higher max velocity command\n",
      "accel_highVmax = accel_input(accel_max, vel_max, dist_desired, t)\n",
      "\n",
      "# Now, plot it with comparison to the first\n",
      "\n",
      "# Now, let's plot the result\n",
      "\n",
      "# Set the plot size - 3x2 aspect ratio is best\n",
      "fig = plt.figure(figsize=(6, 4))\n",
      "ax = plt.gca()\n",
      "plt.subplots_adjust(bottom=0.17, left=0.17, top=0.96, right=0.96)\n",
      "\n",
      "# Change the axis units to serif\n",
      "plt.setp(ax.get_ymajorticklabels(), family='serif', fontsize=18)\n",
      "plt.setp(ax.get_xmajorticklabels(), family='serif', fontsize=18)\n",
      "\n",
      "ax.spines['right'].set_color('none')\n",
      "ax.spines['top'].set_color('none')\n",
      "\n",
      "ax.xaxis.set_ticks_position('bottom')\n",
      "ax.yaxis.set_ticks_position('left')\n",
      "\n",
      "# Turn on the plot grid and set appropriate linestyle and color\n",
      "ax.grid(True,linestyle=':', color='0.75')\n",
      "ax.set_axisbelow(True)\n",
      "\n",
      "# Define the X and Y axis labels\n",
      "plt.xlabel('Time (s)', family='serif', fontsize=22, weight='bold', labelpad=5)\n",
      "plt.ylabel(r'Acceleration $(\\frac{m}{s^2})$', family='serif', fontsize=22, weight='bold', labelpad=10)\n",
      "\n",
      "plt.plot(t, accel, linewidth=2, linestyle='-', label=r'$V_{max} = 0.35 \\frac{m}{s}$')\n",
      "plt.plot(t, accel_highVmax, linewidth=2, linestyle='--', label=r'$V_{max} = 5.0 \\frac{m}{s}$')\n",
      "\n",
      "# uncomment below and set limits if needed\n",
      "# plt.xlim(0, 5)\n",
      "plt.ylim(-1.0, 1.01)\n",
      "\n",
      "# Create the legend, then fix the fontsize\n",
      "leg = plt.legend(loc='upper right', ncol = 1, fancybox=True)\n",
      "ltext  = leg.get_texts()\n",
      "plt.setp(ltext, family='serif', fontsize=20)\n",
      "\n",
      "# Adjust the page layout filling the page using the new tight_layout command\n",
      "plt.tight_layout(pad=0.5)\n",
      "\n",
      "# Uncomment to save the figure as a high-res pdf in the current folder\n",
      "# It's saved at the original 6x4 size\n",
      "# plt.savefig('Example_AccelInput.pdf')\n",
      "\n",
      "fig.set_size_inches(9, 6) # Resize the figure for better display in the notebook"
     ],
     "language": "python",
     "metadata": {},
     "outputs": [
      {
       "metadata": {},
       "output_type": "display_data",
       "png": "[encoded data removed]",
       "text": [
        "<matplotlib.figure.Figure at 0x1109b43d0>"
       ]
      }
     ],
     "prompt_number": 7
    },
    {
     "cell_type": "markdown",
     "metadata": {},
     "source": [
      "We can also change the time at which the command starts. This can make visualizing the inputs (and responses to them slightly easier)."
     ]
    },
    {
     "cell_type": "code",
     "collapsed": false,
     "input": [
      "command_startTime = 0.5     # When the command begins (s)\n",
      "\n",
      "# The original, low max velocity command, now stating at command_startTime seconds\n",
      "vel_max = 0.35      # The command's maximum velcoity (m/s)\n",
      "accel = accel_input(accel_max, vel_max, dist_desired, t, command_startTime)\n",
      "\n",
      "# The high max velocity command, now starting at command_startTime seconds\n",
      "vel_max = 5.0      # The command's maximum velcoity (m/s) \n",
      "accel_highVmax = accel_input(accel_max, vel_max, dist_desired, t, command_startTime)"
     ],
     "language": "python",
     "metadata": {},
     "outputs": [],
     "prompt_number": 8
    },
    {
     "cell_type": "code",
     "collapsed": false,
     "input": [
      "# Now, let's plot the result\n",
      "\n",
      "# Set the plot size - 3x2 aspect ratio is best\n",
      "fig = plt.figure(figsize=(6, 4))\n",
      "ax = plt.gca()\n",
      "plt.subplots_adjust(bottom=0.17, left=0.17, top=0.96, right=0.96)\n",
      "\n",
      "# Change the axis units to serif\n",
      "plt.setp(ax.get_ymajorticklabels(), family='serif', fontsize=18)\n",
      "plt.setp(ax.get_xmajorticklabels(), family='serif', fontsize=18)\n",
      "\n",
      "ax.spines['right'].set_color('none')\n",
      "ax.spines['top'].set_color('none')\n",
      "\n",
      "ax.xaxis.set_ticks_position('bottom')\n",
      "ax.yaxis.set_ticks_position('left')\n",
      "\n",
      "# Turn on the plot grid and set appropriate linestyle and color\n",
      "ax.grid(True,linestyle=':', color='0.75')\n",
      "ax.set_axisbelow(True)\n",
      "\n",
      "# Define the X and Y axis labels\n",
      "plt.xlabel('Time (s)', family='serif', fontsize=22, weight='bold', labelpad=5)\n",
      "plt.ylabel(r'Acceleration $(\\frac{m}{s^2})$', family='serif', fontsize=22, weight='bold', labelpad=10)\n",
      "\n",
      "plt.plot(t, accel, linewidth=2, linestyle='-', label=r'$V_{max} = 0.35 \\frac{m}{s}$')\n",
      "plt.plot(t, accel_highVmax, linewidth=2, linestyle='--', label=r'$V_{max} = 5.0 \\frac{m}{s}$')\n",
      "\n",
      "# uncomment below and set limits if needed\n",
      "# plt.xlim(0, 5)\n",
      "plt.ylim(-1.0, 1.01)\n",
      "\n",
      "# Create the legend, then fix the fontsize\n",
      "leg = plt.legend(loc='upper right', ncol = 1, fancybox=True)\n",
      "ltext  = leg.get_texts()\n",
      "plt.setp(ltext, family='serif', fontsize=20)\n",
      "\n",
      "# Adjust the page layout filling the page using the new tight_layout command\n",
      "plt.tight_layout(pad=0.5)\n",
      "\n",
      "# Uncomment to save the figure as a high-res pdf in the current folder\n",
      "# It's saved at the original 6x4 size\n",
      "# plt.savefig('Example_AccelInput.pdf')\n",
      "\n",
      "fig.set_size_inches(9, 6) # Resize the figure for better display in the notebook"
     ],
     "language": "python",
     "metadata": {},
     "outputs": [
      {
       "metadata": {},
       "output_type": "display_data",
       "png": "[encoded data removed]",
       "text": [
        "<matplotlib.figure.Figure at 0x110e9ec10>"
       ]
      }
     ],
     "prompt_number": 9
    },
    {
     "cell_type": "markdown",
     "metadata": {},
     "source": [
      "<hr class = \"style-end\">"
     ]
    },
    {
     "cell_type": "code",
     "collapsed": false,
     "input": [],
     "language": "python",
     "metadata": {},
     "outputs": []
    },
    {
     "cell_type": "code",
     "collapsed": false,
     "input": [],
     "language": "python",
     "metadata": {},
     "outputs": []
    },
    {
     "cell_type": "code",
     "collapsed": false,
     "input": [],
     "language": "python",
     "metadata": {},
     "outputs": []
    },
    {
     "cell_type": "markdown",
     "metadata": {},
     "source": [
      "## Input Shaping \n",
      "Now, let's define a function to input shape these commands. We'll create a function that takes a function that descrivbes the original, unshaped as an argument. The output will be the shaped command."
     ]
    },
    {
     "cell_type": "code",
     "collapsed": false,
     "input": [
      "def shape_function(unshaped_command, shaper, *args):\n",
      "    \"\"\" \n",
      "    This funciton creates and input shaped version of the the unshaped_command according to the desired input shaper, shaper.\n",
      "    \n",
      "    Arguments:\n",
      "      unshaped_command : a function representing the unshaped, original refernce command\n",
      "      shaper : the input shaper to use to shape the command in an array like [ti Ai] form (Ai and ti are column vectors)\n",
      "      *args : optional arguments that may be needed by the unshaped_command function\n",
      "              For example, the desired distance, maximum value, etc.\n",
      "              \n",
      "    Returns:\n",
      "      The shaped version of unshaped_command\n",
      "      \n",
      "    Created: 01/27/15 - Joshua Vaughan - joshua.vaughan@louisiana.edu\n",
      "    \"\"\"\n",
      "    \n",
      "    shaped_command = 0.0\n",
      "    \n",
      "    for time, amp in shaper:\n",
      "        shaped_command += amp * unshaped_command(accel_max, vel_max, dist_desired, t, command_startTime + time)\n",
      "    \n",
      "    return shaped_command\n",
      "        \n",
      "\n",
      "      "
     ],
     "language": "python",
     "metadata": {},
     "outputs": [],
     "prompt_number": 11
    },
    {
     "cell_type": "code",
     "collapsed": false,
     "input": [
      "# Define the unshaped command (repeated here to be explicit)\n",
      "vel_max = 5.0      # The command's maximum velcoity (m/s) \n",
      "unshaped = accel_input(accel_max, vel_max, dist_desired, t, command_startTime)\n",
      "\n",
      "\n",
      "shaper = np.array([[0.0, 0.25],[0.5, 0.5], [1.0, 0.25]])\n",
      "\n",
      "shaped_bangBang = shape_function(accel_input(accel_max, vel_max, dist_desired, 1, command_startTime), shaper)"
     ],
     "language": "python",
     "metadata": {},
     "outputs": [
      {
       "ename": "TypeError",
       "evalue": "'numpy.float64' object is not callable",
       "output_type": "pyerr",
       "traceback": [
        "\u001b[0;31m---------------------------------------------------------------------------\u001b[0m\n\u001b[0;31mTypeError\u001b[0m                                 Traceback (most recent call last)",
        "\u001b[0;32m<ipython-input-12-6a047d7d3a2d>\u001b[0m in \u001b[0;36m<module>\u001b[0;34m()\u001b[0m\n\u001b[1;32m      6\u001b[0m \u001b[0mshaper\u001b[0m \u001b[0;34m=\u001b[0m \u001b[0mnp\u001b[0m\u001b[0;34m.\u001b[0m\u001b[0marray\u001b[0m\u001b[0;34m(\u001b[0m\u001b[0;34m[\u001b[0m\u001b[0;34m[\u001b[0m\u001b[0;36m0.0\u001b[0m\u001b[0;34m,\u001b[0m \u001b[0;36m0.25\u001b[0m\u001b[0;34m]\u001b[0m\u001b[0;34m,\u001b[0m\u001b[0;34m[\u001b[0m\u001b[0;36m0.5\u001b[0m\u001b[0;34m,\u001b[0m \u001b[0;36m0.5\u001b[0m\u001b[0;34m]\u001b[0m\u001b[0;34m,\u001b[0m \u001b[0;34m[\u001b[0m\u001b[0;36m1.0\u001b[0m\u001b[0;34m,\u001b[0m \u001b[0;36m0.25\u001b[0m\u001b[0;34m]\u001b[0m\u001b[0;34m]\u001b[0m\u001b[0;34m)\u001b[0m\u001b[0;34m\u001b[0m\u001b[0m\n\u001b[1;32m      7\u001b[0m \u001b[0;34m\u001b[0m\u001b[0m\n\u001b[0;32m----> 8\u001b[0;31m \u001b[0mshaped_bangBang\u001b[0m \u001b[0;34m=\u001b[0m \u001b[0mshape_function\u001b[0m\u001b[0;34m(\u001b[0m\u001b[0maccel_input\u001b[0m\u001b[0;34m(\u001b[0m\u001b[0maccel_max\u001b[0m\u001b[0;34m,\u001b[0m \u001b[0mvel_max\u001b[0m\u001b[0;34m,\u001b[0m \u001b[0mdist_desired\u001b[0m\u001b[0;34m,\u001b[0m \u001b[0;36m1\u001b[0m\u001b[0;34m,\u001b[0m \u001b[0mcommand_startTime\u001b[0m\u001b[0;34m)\u001b[0m\u001b[0;34m,\u001b[0m \u001b[0mshaper\u001b[0m\u001b[0;34m)\u001b[0m\u001b[0;34m\u001b[0m\u001b[0m\n\u001b[0m",
        "\u001b[0;32m<ipython-input-11-ec1beadd7a3c>\u001b[0m in \u001b[0;36mshape_function\u001b[0;34m(unshaped_command, shaper, *args)\u001b[0m\n\u001b[1;32m     18\u001b[0m \u001b[0;34m\u001b[0m\u001b[0m\n\u001b[1;32m     19\u001b[0m     \u001b[0;32mfor\u001b[0m \u001b[0mtime\u001b[0m\u001b[0;34m,\u001b[0m \u001b[0mamp\u001b[0m \u001b[0;32min\u001b[0m \u001b[0mshaper\u001b[0m\u001b[0;34m:\u001b[0m\u001b[0;34m\u001b[0m\u001b[0m\n\u001b[0;32m---> 20\u001b[0;31m         \u001b[0mshaped_command\u001b[0m \u001b[0;34m+=\u001b[0m \u001b[0mamp\u001b[0m \u001b[0;34m*\u001b[0m \u001b[0munshaped_command\u001b[0m\u001b[0;34m(\u001b[0m\u001b[0maccel_max\u001b[0m\u001b[0;34m,\u001b[0m \u001b[0mvel_max\u001b[0m\u001b[0;34m,\u001b[0m \u001b[0mdist_desired\u001b[0m\u001b[0;34m,\u001b[0m \u001b[0mt\u001b[0m\u001b[0;34m,\u001b[0m \u001b[0mcommand_startTime\u001b[0m \u001b[0;34m+\u001b[0m \u001b[0mtime\u001b[0m\u001b[0;34m)\u001b[0m\u001b[0;34m\u001b[0m\u001b[0m\n\u001b[0m\u001b[1;32m     21\u001b[0m \u001b[0;34m\u001b[0m\u001b[0m\n\u001b[1;32m     22\u001b[0m     \u001b[0;32mreturn\u001b[0m \u001b[0mshaped_command\u001b[0m\u001b[0;34m\u001b[0m\u001b[0m\n",
        "\u001b[0;31mTypeError\u001b[0m: 'numpy.float64' object is not callable"
       ]
      }
     ],
     "prompt_number": 12
    },
    {
     "cell_type": "code",
     "collapsed": false,
     "input": [
      "# Now, let's plot the result and compare it to the unshaped comand\n",
      "\n",
      "# Set the plot size - 3x2 aspect ratio is best\n",
      "fig = plt.figure(figsize=(6, 4))\n",
      "ax = plt.gca()\n",
      "plt.subplots_adjust(bottom=0.17, left=0.17, top=0.96, right=0.96)\n",
      "\n",
      "# Change the axis units to serif\n",
      "plt.setp(ax.get_ymajorticklabels(), family='serif', fontsize=18)\n",
      "plt.setp(ax.get_xmajorticklabels(), family='serif', fontsize=18)\n",
      "\n",
      "ax.spines['right'].set_color('none')\n",
      "ax.spines['top'].set_color('none')\n",
      "\n",
      "ax.xaxis.set_ticks_position('bottom')\n",
      "ax.yaxis.set_ticks_position('left')\n",
      "\n",
      "# Turn on the plot grid and set appropriate linestyle and color\n",
      "ax.grid(True,linestyle=':', color='0.75')\n",
      "ax.set_axisbelow(True)\n",
      "\n",
      "# Define the X and Y axis labels\n",
      "plt.xlabel('Time (s)', family='serif', fontsize=22, weight='bold', labelpad=5)\n",
      "plt.ylabel(r'Acceleration $(\\frac{m}{s^2})$', family='serif', fontsize=22, weight='bold', labelpad=10)\n",
      "\n",
      "plt.plot(t, unshaped, linewidth=2, linestyle='-', label=r'Unshaped Command')\n",
      "plt.plot(t, shaped_bangBang, linewidth=2, linestyle='--', label=r'Shaped Command')\n",
      "\n",
      "# uncomment below and set limits if needed\n",
      "# plt.xlim(0, 5)\n",
      "plt.ylim(-1.0, 1.01)\n",
      "\n",
      "# Create the legend, then fix the fontsize\n",
      "leg = plt.legend(loc='upper right', ncol = 1, fancybox=True)\n",
      "ltext  = leg.get_texts()\n",
      "plt.setp(ltext, family='serif', fontsize=20)\n",
      "\n",
      "# Adjust the page layout filling the page using the new tight_layout command\n",
      "plt.tight_layout(pad=0.5)\n",
      "\n",
      "# Uncomment to save the figure as a high-res pdf in the current folder\n",
      "# It's saved at the original 6x4 size\n",
      "# plt.savefig('Example_AccelInput.pdf')\n",
      "\n",
      "fig.set_size_inches(9, 6) # Resize the figure for better display in the notebook"
     ],
     "language": "python",
     "metadata": {},
     "outputs": []
    },
    {
     "cell_type": "markdown",
     "metadata": {},
     "source": [
      "<hr class = \"style-end\">"
     ]
    },
    {
     "cell_type": "markdown",
     "metadata": {},
     "source": [
      "#### Licenses\n",
      "Code is licensed under a 3-clause BSD style license. See the licenses/LICENSE.md file.\n",
      "\n",
      "Other content is provided under a [Creative Commons Attribution-NonCommercial 4.0 International License](http://creativecommons.org/licenses/by-nc/4.0/), CC-BY-NC 4.0."
     ]
    },
    {
     "cell_type": "code",
     "collapsed": false,
     "input": [
      "# Ignore this cell - We just update the CSS to make the notebook look a little bit better and easier to read\n",
      "\n",
      "# Improve the notebook styling -- Run this first\n",
      "from IPython.core.display import HTML\n",
      "css_file = '../styling/CRAWLAB_IPythonNotebook.css'\n",
      "HTML(open(css_file, \"r\").read())"
     ],
     "language": "python",
     "metadata": {},
     "outputs": [
      {
       "html": [
        "<style>\n",
        "    @font-face {\n",
        "        font-family: \"Computer Modern\";\n",
        "        src: url('http://9dbb143991406a7c655e-aa5fcb0a5a4ec34cff238a2d56ca4144.r56.cf5.rackcdn.com/cmunss.otf');\n",
        "    }\n",
        "    @font-face {\n",
        "        font-family: \"Computer Modern\";\n",
        "        font-weight: bold;\n",
        "        src: url('http://9dbb143991406a7c655e-aa5fcb0a5a4ec34cff238a2d56ca4144.r56.cf5.rackcdn.com/cmunsx.otf');\n",
        "    }\n",
        "    @font-face {\n",
        "        font-family: \"Computer Modern\";\n",
        "        font-style: oblique;\n",
        "        src: url('http://9dbb143991406a7c655e-aa5fcb0a5a4ec34cff238a2d56ca4144.r56.cf5.rackcdn.com/cmunsi.otf');\n",
        "    }\n",
        "    @font-face {\n",
        "        font-family: \"Computer Modern\";\n",
        "        font-weight: bold;\n",
        "        font-style: oblique;\n",
        "        src: url('http://9dbb143991406a7c655e-aa5fcb0a5a4ec34cff238a2d56ca4144.r56.cf5.rackcdn.com/cmunso.otf');\n",
        "    }\n",
        "    \n",
        "    div.cell{\n",
        "        max-width:1100px;\n",
        "        margin-left:auto;\n",
        "        margin-right:auto;\n",
        "    }\n",
        "    \n",
        "    h1 {\n",
        "        font-family: Computer Modern;\n",
        "    }\n",
        "    \n",
        "    h4{\n",
        "        margin-top:12px;\n",
        "        margin-bottom: 3px;\n",
        "       }\n",
        "\n",
        "    div.text_cell_render{\n",
        "        font-family: Computer Modern, \"Helvetica Neue\", Arial, Helvetica, Geneva, sans-serif;\n",
        "        line-height: 145%;\n",
        "        font-size: 130%;\n",
        "        max-width:1100px;\n",
        "        margin-left:auto;\n",
        "        margin-right:auto;\n",
        "    }\n",
        "    \n",
        "    .CodeMirror{\n",
        "            font-family: \"Source Code Pro\", source-code-pro, Consolas, monospace;\n",
        "    }\n",
        "    \n",
        "    .warning{\n",
        "        color: rgb( 240, 20, 20 )\n",
        "        }  \n",
        "    \n",
        "    hr.style-end {\n",
        "    border: 0;\n",
        "    height: 1px;\n",
        "    text-align: center;\n",
        "    background: #333;\n",
        "    background-image: -webkit-linear-gradient(left, #ccc, #333, #ccc); \n",
        "    background-image:    -moz-linear-gradient(left, #ccc, #333, #ccc); \n",
        "    background-image:     -ms-linear-gradient(left, #ccc, #333, #ccc); \n",
        "    background-image:      -o-linear-gradient(left, #ccc, #333, #ccc); \n",
        "    }\n",
        "\n",
        "    hr.style-end:after {\n",
        "    content: \"\u269c\";\n",
        "    display: inline-block;\n",
        "    position: relative; \n",
        "    top: -0.5em;  \n",
        "    font-size: 1.5em;\n",
        "    padding: 0 0.25em;\n",
        "    background: white;\n",
        "    }\n",
        "    \n",
        "/*  Center figures, etc\n",
        "    .ui-wrapper {\n",
        "        margin-left: auto !important;\n",
        "        margin-right: auto !important;\n",
        "    }\n",
        " */\n",
        "    \n",
        "</style>\n",
        "<script>\n",
        "    MathJax.Hub.Config({\n",
        "                        TeX: {\n",
        "                           extensions: [\"AMSmath.js\"]\n",
        "                           },\n",
        "                tex2jax: {\n",
        "                    inlineMath: [ ['$','$'], [\"\\\\(\",\"\\\\)\"] ],\n",
        "                    displayMath: [ ['$$','$$'], [\"\\\\[\",\"\\\\]\"] ]\n",
        "                },\n",
        "                displayAlign: 'center', // Change this to 'center' to center equations.\n",
        "                \"HTML-CSS\": {\n",
        "                    styles: {'.MathJax_Display': {\"margin\": 4}}\n",
        "                }\n",
        "        });\n",
        "</script>\n"
       ],
       "metadata": {},
       "output_type": "pyout",
       "prompt_number": 13,
       "text": [
        "<IPython.core.display.HTML at 0x110ed3210>"
       ]
      }
     ],
     "prompt_number": 13
    }
   ],
   "metadata": {}
  }
 ]
}