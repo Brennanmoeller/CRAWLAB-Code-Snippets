{
 "cells": [
  {
   "cell_type": "markdown",
   "metadata": {},
   "source": [
    "<h1 style=\"text-align:center\">Two-link Planar Robot Arm</h1>\n",
    "<p style=\"text-align:center\">Dr. Joshua Vaughan <br>\n",
    "<a href=\"mailto:joshua.vaughan@louisiana.edu\">joshua.vaughan@louisiana.edu</a><br>\n",
    "<a href=\"http://www.ucs.louisiana.edu/~jev9637/\">http://www.ucs.louisiana.edu/~jev9637/</a></p>"
   ]
  },
  {
   "cell_type": "code",
   "execution_count": 1,
   "metadata": {
    "collapsed": true
   },
   "outputs": [],
   "source": [
    "# Import the SymPy Module\n",
    "import sympy\n",
    "\n",
    "# Import the necessary sub-modules and methods for dynamics\n",
    "from sympy.physics.mechanics import dynamicsymbols\n",
    "from sympy.physics.mechanics import inertia, LagrangesMethod, Lagrangian\n",
    "from sympy.physics.mechanics import Particle, Point, ReferenceFrame, RigidBody\n",
    "\n",
    "# initiate better printing of SymPy results\n",
    "sympy.init_printing()"
   ]
  },
  {
   "cell_type": "code",
   "execution_count": 2,
   "metadata": {},
   "outputs": [],
   "source": [
    "# Define the genearlized coordinate\n",
    "theta1, theta2, Torq1, Torq2 = dynamicsymbols('theta_1 theta_2 tau_1 tau_2')\n",
    "\n",
    "# Also define the first derivative\n",
    "theta1_dot, theta2_dot = dynamicsymbols('theta_1 theta_2', 1)\n",
    "\n",
    "# Define the symbols for the other paramters\n",
    "m1, m2, l1, l2, I1, I2, t = sympy.symbols('m_1 m_2 l_1 l_2 I_1 I_2 t')"
   ]
  },
  {
   "cell_type": "code",
   "execution_count": 3,
   "metadata": {},
   "outputs": [
    {
     "data": {
      "image/png": "[encoded data removed]",
      "text/latex": [
       "$$\\frac{I_{2}}{2} \\left(\\frac{d}{d t} \\theta_{1}{\\left (t \\right )} + \\frac{d}{d t} \\theta_{2}{\\left (t \\right )}\\right) \\frac{d}{d t} \\theta_{1}{\\left (t \\right )} + \\frac{I_{2}}{2} \\left(\\frac{d}{d t} \\theta_{1}{\\left (t \\right )} + \\frac{d}{d t} \\theta_{2}{\\left (t \\right )}\\right) \\frac{d}{d t} \\theta_{2}{\\left (t \\right )} + \\frac{l_{1}^{2} m_{1}}{8} \\left(\\frac{d}{d t} \\theta_{1}{\\left (t \\right )}\\right)^{2} + \\frac{m_{2}}{2} \\left(l_{1}^{2} \\left(\\frac{d}{d t} \\theta_{1}{\\left (t \\right )}\\right)^{2} + l_{1} l_{2} \\left(\\frac{d}{d t} \\theta_{1}{\\left (t \\right )} + \\frac{d}{d t} \\theta_{2}{\\left (t \\right )}\\right) \\cos{\\left (\\theta_{2}{\\left (t \\right )} \\right )} \\frac{d}{d t} \\theta_{1}{\\left (t \\right )} + \\frac{l_{2}^{2}}{4} \\left(\\frac{d}{d t} \\theta_{1}{\\left (t \\right )} + \\frac{d}{d t} \\theta_{2}{\\left (t \\right )}\\right)^{2}\\right)$$"
      ],
      "text/plain": [
       "                                                                              \n",
       "                                                                              \n",
       "                                                                              \n",
       "   ⎛d           d        ⎞ d              ⎛d           d        ⎞ d           \n",
       "I₂⋅⎜──(θ₁(t)) + ──(θ₂(t))⎟⋅──(θ₁(t))   I₂⋅⎜──(θ₁(t)) + ──(θ₂(t))⎟⋅──(θ₂(t))   \n",
       "   ⎝dt          dt       ⎠ dt             ⎝dt          dt       ⎠ dt          \n",
       "──────────────────────────────────── + ──────────────────────────────────── + \n",
       "                 2                                      2                     \n",
       "\n",
       "                         ⎛                                                    \n",
       "                         ⎜                                                    \n",
       "                  2      ⎜               2                                    \n",
       "  2    ⎛d        ⎞       ⎜  2 ⎛d        ⎞          ⎛d           d        ⎞    \n",
       "l₁ ⋅m₁⋅⎜──(θ₁(t))⎟    m₂⋅⎜l₁ ⋅⎜──(θ₁(t))⎟  + l₁⋅l₂⋅⎜──(θ₁(t)) + ──(θ₂(t))⎟⋅cos\n",
       "       ⎝dt       ⎠       ⎝    ⎝dt       ⎠          ⎝dt          dt       ⎠    \n",
       "─────────────────── + ────────────────────────────────────────────────────────\n",
       "         8                                                                2   \n",
       "\n",
       "                                               2⎞\n",
       "                      2 ⎛d           d        ⎞ ⎟\n",
       "                    l₂ ⋅⎜──(θ₁(t)) + ──(θ₂(t))⎟ ⎟\n",
       "        d               ⎝dt          dt       ⎠ ⎟\n",
       "(θ₂(t))⋅──(θ₁(t)) + ────────────────────────────⎟\n",
       "        dt                       4              ⎠\n",
       "─────────────────────────────────────────────────\n",
       "                                                 "
      ]
     },
     "execution_count": 3,
     "metadata": {},
     "output_type": "execute_result"
    }
   ],
   "source": [
    "# Define the Newtonian reference frame\n",
    "N = ReferenceFrame('N')\n",
    "\n",
    "# Define a body-fixed frames\n",
    "A = N.orientnew('A', 'Axis', [theta1, N.z]) # Fixed to link 1\n",
    "B = A.orientnew('B', 'Axis', [theta2, A.z]) # Fixed to link 2\n",
    "\n",
    "# Define an origin and set its velocity to 0\n",
    "O = Point('O')\n",
    "O.set_vel(N, 0 * N.x)\n",
    "\n",
    "# Define the COM of the first link location and velocity\n",
    "G1 = O.locatenew('G1', l1/2 * A.x)\n",
    "G1.v2pt_theory(O, N, A)\n",
    "\n",
    "# Define the point at the end of the first link and set its velocity\n",
    "P = O.locatenew('P', l1 * A.x)\n",
    "P.v2pt_theory(O, N, A)\n",
    "\n",
    "# Define the COM of the first link location and velocity\n",
    "G2 = P.locatenew('G2', l2/2 * B.x)\n",
    "G2.v2pt_theory(P, N, B)\n",
    "\n",
    "# Create the first link rigid bogy\n",
    "I_link1 = inertia(A, 0, 0, I1)\n",
    "link1 = RigidBody('link1', G1, N, m1, (I_link1, G1))\n",
    "\n",
    "# Create the second link rigid bogy\n",
    "I_link2 = inertia(B, 0, 0, I2)\n",
    "link2 = RigidBody('link2', G2, B, m2, (I_link2, G2))\n",
    "\n",
    "# Now, set the potential energy of the links\n",
    "# Both are zero\n",
    "link1.potential_energy = 0\n",
    "link2.potential_energy = 0\n",
    "\n",
    "# Set up the force list - each item follows the form:\n",
    "#    (the location where the force is applied, its magnitude and direction)\n",
    "forces = [(A, (Torq1-Torq2) * A.z), (B, Torq2 * B.z)]\n",
    "\n",
    "# # Form the Lagrangian\n",
    "L =  Lagrangian(N, link1, link2)\n",
    "\n",
    "# # Print the Lagrangian as a check\n",
    "L"
   ]
  },
  {
   "cell_type": "code",
   "execution_count": 4,
   "metadata": {
    "scrolled": false
   },
   "outputs": [],
   "source": [
    "# This creates a LagrangesMethod class instance that will \n",
    "# allow us to form the equations of motion, etc\n",
    "LM = LagrangesMethod(L, [theta1, theta2], forcelist=forces, frame=N)"
   ]
  },
  {
   "cell_type": "code",
   "execution_count": 5,
   "metadata": {},
   "outputs": [
    {
     "data": {
      "image/png": "[encoded data removed]",
      "text/latex": [
       "$$\\left[\\begin{matrix}I_{2} \\frac{d^{2}}{d t^{2}}  \\theta_{1}{\\left (t \\right )} + I_{2} \\frac{d^{2}}{d t^{2}}  \\theta_{2}{\\left (t \\right )} + \\frac{l_{1}^{2} m_{1}}{4} \\frac{d^{2}}{d t^{2}}  \\theta_{1}{\\left (t \\right )} + l_{1}^{2} m_{2} \\frac{d^{2}}{d t^{2}}  \\theta_{1}{\\left (t \\right )} - l_{1} l_{2} m_{2} \\sin{\\left (\\theta_{2}{\\left (t \\right )} \\right )} \\frac{d}{d t} \\theta_{1}{\\left (t \\right )} \\frac{d}{d t} \\theta_{2}{\\left (t \\right )} - \\frac{l_{1} l_{2}}{2} m_{2} \\sin{\\left (\\theta_{2}{\\left (t \\right )} \\right )} \\left(\\frac{d}{d t} \\theta_{2}{\\left (t \\right )}\\right)^{2} + l_{1} l_{2} m_{2} \\cos{\\left (\\theta_{2}{\\left (t \\right )} \\right )} \\frac{d^{2}}{d t^{2}}  \\theta_{1}{\\left (t \\right )} + \\frac{l_{1} l_{2}}{2} m_{2} \\cos{\\left (\\theta_{2}{\\left (t \\right )} \\right )} \\frac{d^{2}}{d t^{2}}  \\theta_{2}{\\left (t \\right )} + \\frac{l_{2}^{2} m_{2}}{4} \\frac{d^{2}}{d t^{2}}  \\theta_{1}{\\left (t \\right )} + \\frac{l_{2}^{2} m_{2}}{4} \\frac{d^{2}}{d t^{2}}  \\theta_{2}{\\left (t \\right )} - \\tau_{1}{\\left (t \\right )}\\\\I_{2} \\frac{d^{2}}{d t^{2}}  \\theta_{1}{\\left (t \\right )} + I_{2} \\frac{d^{2}}{d t^{2}}  \\theta_{2}{\\left (t \\right )} + \\frac{l_{1} l_{2}}{2} m_{2} \\sin{\\left (\\theta_{2}{\\left (t \\right )} \\right )} \\left(\\frac{d}{d t} \\theta_{1}{\\left (t \\right )}\\right)^{2} + \\frac{l_{1} l_{2}}{2} m_{2} \\cos{\\left (\\theta_{2}{\\left (t \\right )} \\right )} \\frac{d^{2}}{d t^{2}}  \\theta_{1}{\\left (t \\right )} + \\frac{l_{2}^{2} m_{2}}{4} \\frac{d^{2}}{d t^{2}}  \\theta_{1}{\\left (t \\right )} + \\frac{l_{2}^{2} m_{2}}{4} \\frac{d^{2}}{d t^{2}}  \\theta_{2}{\\left (t \\right )} - \\tau_{2}{\\left (t \\right )}\\end{matrix}\\right]$$"
      ],
      "text/plain": [
       "⎡                                         2                                   \n",
       "⎢                                  2     d                                    \n",
       "⎢                                l₁ ⋅m₁⋅───(θ₁(t))                            \n",
       "⎢     2               2                   2                   2               \n",
       "⎢    d               d                  dt             2     d                \n",
       "⎢I₂⋅───(θ₁(t)) + I₂⋅───(θ₂(t)) + ───────────────── + l₁ ⋅m₂⋅───(θ₁(t)) - l₁⋅l₂\n",
       "⎢     2               2                  4                    2               \n",
       "⎢   dt              dt                                      dt                \n",
       "⎢                                                                             \n",
       "⎢                                                                             \n",
       "⎢                                                                             \n",
       "⎢                                                                             \n",
       "⎢                                                              2              \n",
       "⎢                                                             d               \n",
       "⎢                                                         I₂⋅───(θ₁(t)) + I₂⋅─\n",
       "⎢                                                              2              \n",
       "⎣                                                            dt              d\n",
       "\n",
       "                                                                              \n",
       "                                                                    2         \n",
       "                                                         ⎛d        ⎞          \n",
       "                                     l₁⋅l₂⋅m₂⋅sin(θ₂(t))⋅⎜──(θ₂(t))⎟          \n",
       "               d         d                               ⎝dt       ⎠          \n",
       "⋅m₂⋅sin(θ₂(t))⋅──(θ₁(t))⋅──(θ₂(t)) - ──────────────────────────────── + l₁⋅l₂⋅\n",
       "               dt        dt                         2                         \n",
       "                                                                              \n",
       "                                                                              \n",
       "                                                                     2        \n",
       "                                           2                        d         \n",
       "                                ⎛d        ⎞    l₁⋅l₂⋅m₂⋅cos(θ₂(t))⋅───(θ₁(t)) \n",
       " 2          l₁⋅l₂⋅m₂⋅sin(θ₂(t))⋅⎜──(θ₁(t))⎟                          2        \n",
       "d                               ⎝dt       ⎠                        dt         \n",
       "──(θ₂(t)) + ──────────────────────────────── + ────────────────────────────── \n",
       " 2                         2                                 2                \n",
       "t                                                                             \n",
       "\n",
       "                                                 2                   2        \n",
       "                                                d             2     d         \n",
       "                           l₁⋅l₂⋅m₂⋅cos(θ₂(t))⋅───(θ₂(t))   l₂ ⋅m₂⋅───(θ₁(t)) \n",
       "                2                                2                   2        \n",
       "               d                               dt                  dt         \n",
       "m₂⋅cos(θ₂(t))⋅───(θ₁(t)) + ────────────────────────────── + ───────────────── \n",
       "                2                        2                          4         \n",
       "              dt                                                              \n",
       "                                                                              \n",
       "           2                   2                                              \n",
       "    2     d             2     d                                               \n",
       "  l₂ ⋅m₂⋅───(θ₁(t))   l₂ ⋅m₂⋅───(θ₂(t))                                       \n",
       "           2                   2                                              \n",
       "         dt                  dt                                               \n",
       "+ ───────────────── + ───────────────── - τ₂(t)                               \n",
       "          4                   4                                               \n",
       "                                                                              \n",
       "\n",
       "           2               ⎤\n",
       "    2     d                ⎥\n",
       "  l₂ ⋅m₂⋅───(θ₂(t))        ⎥\n",
       "           2               ⎥\n",
       "         dt                ⎥\n",
       "+ ───────────────── - τ₁(t)⎥\n",
       "          4                ⎥\n",
       "                           ⎥\n",
       "                           ⎥\n",
       "                           ⎥\n",
       "                           ⎥\n",
       "                           ⎥\n",
       "                           ⎥\n",
       "                           ⎥\n",
       "                           ⎥\n",
       "                           ⎥\n",
       "                           ⎦"
      ]
     },
     "execution_count": 5,
     "metadata": {},
     "output_type": "execute_result"
    }
   ],
   "source": [
    "# Form the equations fo motion\n",
    "EqMotion = LM.form_lagranges_equations()\n",
    "\n",
    "# Print the simplified version of the equations of motion\n",
    "sympy.simplify(EqMotion)"
   ]
  },
  {
   "cell_type": "markdown",
   "metadata": {},
   "source": [
    "The <tt>LagrangesMethod</tt> class gives us lots of information about the system. For example, we can output the mass/inertia matrix and the forcing terms. Note that the forcing terms include what might be conservative forces and would therefore normally appear in a stiffness matrix.`m"
   ]
  },
  {
   "cell_type": "code",
   "execution_count": 6,
   "metadata": {},
   "outputs": [
    {
     "data": {
      "image/png": "[encoded data removed]",
      "text/latex": [
       "$$\\left[\\begin{matrix}I_{2} + \\frac{l_{1}^{2} m_{1}}{4} + \\frac{m_{2}}{2} \\left(2 l_{1}^{2} + 2 l_{1} l_{2} \\cos{\\left (\\theta_{2}{\\left (t \\right )} \\right )} + \\frac{l_{2}^{2}}{2}\\right) & I_{2} + \\frac{m_{2}}{2} \\left(l_{1} l_{2} \\cos{\\left (\\theta_{2}{\\left (t \\right )} \\right )} + \\frac{l_{2}^{2}}{2}\\right)\\\\I_{2} + \\frac{m_{2}}{2} \\left(l_{1} l_{2} \\cos{\\left (\\theta_{2}{\\left (t \\right )} \\right )} + \\frac{l_{2}^{2}}{2}\\right) & I_{2} + \\frac{l_{2}^{2} m_{2}}{4}\\end{matrix}\\right]$$"
      ],
      "text/plain": [
       "⎡                 ⎛                               2⎞          ⎛               \n",
       "⎢                 ⎜    2                        l₂ ⎟          ⎜               \n",
       "⎢       2      m₂⋅⎜2⋅l₁  + 2⋅l₁⋅l₂⋅cos(θ₂(t)) + ───⎟       m₂⋅⎜l₁⋅l₂⋅cos(θ₂(t)\n",
       "⎢     l₁ ⋅m₁      ⎝                              2 ⎠          ⎝               \n",
       "⎢I₂ + ────── + ─────────────────────────────────────  I₂ + ───────────────────\n",
       "⎢       4                        2                                      2     \n",
       "⎢                                                                             \n",
       "⎢                 ⎛                     2⎞                                    \n",
       "⎢                 ⎜                   l₂ ⎟                                    \n",
       "⎢              m₂⋅⎜l₁⋅l₂⋅cos(θ₂(t)) + ───⎟                             2      \n",
       "⎢                 ⎝                    2 ⎠                           l₂ ⋅m₂   \n",
       "⎢         I₂ + ───────────────────────────                      I₂ + ──────   \n",
       "⎣                           2                                          4      \n",
       "\n",
       "      2⎞⎤\n",
       "    l₂ ⎟⎥\n",
       ") + ───⎟⎥\n",
       "     2 ⎠⎥\n",
       "────────⎥\n",
       "        ⎥\n",
       "        ⎥\n",
       "        ⎥\n",
       "        ⎥\n",
       "        ⎥\n",
       "        ⎥\n",
       "        ⎥\n",
       "        ⎦"
      ]
     },
     "execution_count": 6,
     "metadata": {},
     "output_type": "execute_result"
    }
   ],
   "source": [
    "# Output the inertia/mass matrix of the system\n",
    "LM.mass_matrix"
   ]
  },
  {
   "cell_type": "code",
   "execution_count": 7,
   "metadata": {},
   "outputs": [
    {
     "data": {
      "image/png": "[encoded data removed]",
      "text/latex": [
       "$$\\left[\\begin{matrix}- \\frac{m_{2}}{2} \\left(- l_{1} l_{2} \\left(\\frac{d}{d t} \\theta_{1}{\\left (t \\right )} + \\frac{d}{d t} \\theta_{2}{\\left (t \\right )}\\right) \\sin{\\left (\\theta_{2}{\\left (t \\right )} \\right )} \\frac{d}{d t} \\theta_{2}{\\left (t \\right )} - l_{1} l_{2} \\sin{\\left (\\theta_{2}{\\left (t \\right )} \\right )} \\frac{d}{d t} \\theta_{1}{\\left (t \\right )} \\frac{d}{d t} \\theta_{2}{\\left (t \\right )}\\right) + \\tau_{1}{\\left (t \\right )}\\\\- \\frac{l_{1} l_{2}}{2} m_{2} \\left(\\frac{d}{d t} \\theta_{1}{\\left (t \\right )} + \\frac{d}{d t} \\theta_{2}{\\left (t \\right )}\\right) \\sin{\\left (\\theta_{2}{\\left (t \\right )} \\right )} \\frac{d}{d t} \\theta_{1}{\\left (t \\right )} + \\frac{l_{1} l_{2}}{2} m_{2} \\sin{\\left (\\theta_{2}{\\left (t \\right )} \\right )} \\frac{d}{d t} \\theta_{1}{\\left (t \\right )} \\frac{d}{d t} \\theta_{2}{\\left (t \\right )} + \\tau_{2}{\\left (t \\right )}\\end{matrix}\\right]$$"
      ],
      "text/plain": [
       "⎡     ⎛        ⎛d           d        ⎞            d                           \n",
       "⎢  m₂⋅⎜- l₁⋅l₂⋅⎜──(θ₁(t)) + ──(θ₂(t))⎟⋅sin(θ₂(t))⋅──(θ₂(t)) - l₁⋅l₂⋅sin(θ₂(t))\n",
       "⎢     ⎝        ⎝dt          dt       ⎠            dt                          \n",
       "⎢- ───────────────────────────────────────────────────────────────────────────\n",
       "⎢                                                 2                           \n",
       "⎢                                                                             \n",
       "⎢           ⎛d           d        ⎞            d                              \n",
       "⎢  l₁⋅l₂⋅m₂⋅⎜──(θ₁(t)) + ──(θ₂(t))⎟⋅sin(θ₂(t))⋅──(θ₁(t))   l₁⋅l₂⋅m₂⋅sin(θ₂(t))\n",
       "⎢           ⎝dt          dt       ⎠            dt                             \n",
       "⎢- ───────────────────────────────────────────────────── + ───────────────────\n",
       "⎣                            2                                                \n",
       "\n",
       " d         d        ⎞        ⎤\n",
       "⋅──(θ₁(t))⋅──(θ₂(t))⎟        ⎥\n",
       " dt        dt       ⎠        ⎥\n",
       "───────────────────── + τ₁(t)⎥\n",
       "                             ⎥\n",
       "                             ⎥\n",
       " d         d                 ⎥\n",
       "⋅──(θ₁(t))⋅──(θ₂(t))         ⎥\n",
       " dt        dt                ⎥\n",
       "──────────────────── + τ₂(t) ⎥\n",
       "2                            ⎦"
      ]
     },
     "execution_count": 7,
     "metadata": {},
     "output_type": "execute_result"
    }
   ],
   "source": [
    "# Output the forcing terms of the system\n",
    "LM.forcing"
   ]
  },
  {
   "cell_type": "markdown",
   "metadata": {},
   "source": [
    "We can also use builtin functions to write the system as a set of first order ODEs, suitable for simluation."
   ]
  },
  {
   "cell_type": "code",
   "execution_count": 8,
   "metadata": {},
   "outputs": [
    {
     "data": {
      "image/png": "[encoded data removed]",
      "text/latex": [
       "$$\\left[\\begin{matrix}\\frac{d}{d t} \\theta_{1}{\\left (t \\right )}\\\\\\frac{d}{d t} \\theta_{2}{\\left (t \\right )}\\\\\\frac{2}{l_{1}^{2} \\left(4 I_{2} m_{1} + 16 I_{2} m_{2} + l_{2}^{2} m_{1} m_{2} + 4 l_{2}^{2} m_{2}^{2} \\sin^{2}{\\left (\\theta_{2}{\\left (t \\right )} \\right )}\\right)} \\left(4 I_{2} l_{1} l_{2} m_{2} \\sin{\\left (\\theta_{2}{\\left (t \\right )} \\right )} \\left(\\frac{d}{d t} \\theta_{1}{\\left (t \\right )}\\right)^{2} + 8 I_{2} l_{1} l_{2} m_{2} \\sin{\\left (\\theta_{2}{\\left (t \\right )} \\right )} \\frac{d}{d t} \\theta_{1}{\\left (t \\right )} \\frac{d}{d t} \\theta_{2}{\\left (t \\right )} + 4 I_{2} l_{1} l_{2} m_{2} \\sin{\\left (\\theta_{2}{\\left (t \\right )} \\right )} \\left(\\frac{d}{d t} \\theta_{2}{\\left (t \\right )}\\right)^{2} + 8 I_{2} \\tau_{1}{\\left (t \\right )} - 8 I_{2} \\tau_{2}{\\left (t \\right )} + l_{1}^{2} l_{2}^{2} m_{2}^{2} \\sin{\\left (2 \\theta_{2}{\\left (t \\right )} \\right )} \\left(\\frac{d}{d t} \\theta_{1}{\\left (t \\right )}\\right)^{2} + l_{1} l_{2}^{3} m_{2}^{2} \\sin{\\left (\\theta_{2}{\\left (t \\right )} \\right )} \\left(\\frac{d}{d t} \\theta_{1}{\\left (t \\right )}\\right)^{2} + 2 l_{1} l_{2}^{3} m_{2}^{2} \\sin{\\left (\\theta_{2}{\\left (t \\right )} \\right )} \\frac{d}{d t} \\theta_{1}{\\left (t \\right )} \\frac{d}{d t} \\theta_{2}{\\left (t \\right )} + l_{1} l_{2}^{3} m_{2}^{2} \\sin{\\left (\\theta_{2}{\\left (t \\right )} \\right )} \\left(\\frac{d}{d t} \\theta_{2}{\\left (t \\right )}\\right)^{2} - 4 l_{1} l_{2} m_{2} \\tau_{2}{\\left (t \\right )} \\cos{\\left (\\theta_{2}{\\left (t \\right )} \\right )} + 2 l_{2}^{2} m_{2} \\tau_{1}{\\left (t \\right )} - 2 l_{2}^{2} m_{2} \\tau_{2}{\\left (t \\right )}\\right)\\\\- \\frac{1}{l_{1}^{2} \\left(4 I_{2} m_{1} + 16 I_{2} m_{2} + l_{2}^{2} m_{1} m_{2} + 4 l_{2}^{2} m_{2}^{2} \\sin^{2}{\\left (\\theta_{2}{\\left (t \\right )} \\right )}\\right)} \\left(2 \\left(4 I_{2} + l_{2} m_{2} \\left(2 l_{1} \\cos{\\left (\\theta_{2}{\\left (t \\right )} \\right )} + l_{2}\\right)\\right) \\left(l_{1} l_{2} m_{2} \\left(2 \\frac{d}{d t} \\theta_{1}{\\left (t \\right )} + \\frac{d}{d t} \\theta_{2}{\\left (t \\right )}\\right) \\sin{\\left (\\theta_{2}{\\left (t \\right )} \\right )} \\frac{d}{d t} \\theta_{2}{\\left (t \\right )} + 2 \\tau_{1}{\\left (t \\right )}\\right) + 2 \\left(l_{1} l_{2} m_{2} \\sin{\\left (\\theta_{2}{\\left (t \\right )} \\right )} \\left(\\frac{d}{d t} \\theta_{1}{\\left (t \\right )}\\right)^{2} - 2 \\tau_{2}{\\left (t \\right )}\\right) \\left(4 I_{2} + l_{1}^{2} m_{1} + m_{2} \\left(4 l_{1}^{2} + 4 l_{1} l_{2} \\cos{\\left (\\theta_{2}{\\left (t \\right )} \\right )} + l_{2}^{2}\\right)\\right)\\right)\\end{matrix}\\right]$$"
      ],
      "text/plain": [
       "⎡                                                                             \n",
       "⎢                                                                             \n",
       "⎢                                                                             \n",
       "⎢                                                                             \n",
       "⎢                                                                             \n",
       "⎢                                                                             \n",
       "⎢                                                                             \n",
       "⎢                                                                             \n",
       "⎢  ⎛                                    2                                     \n",
       "⎢  ⎜                         ⎛d        ⎞                             d        \n",
       "⎢2⋅⎜4⋅I₂⋅l₁⋅l₂⋅m₂⋅sin(θ₂(t))⋅⎜──(θ₁(t))⎟  + 8⋅I₂⋅l₁⋅l₂⋅m₂⋅sin(θ₂(t))⋅──(θ₁(t))\n",
       "⎢  ⎝                         ⎝dt       ⎠                             dt       \n",
       "⎢─────────────────────────────────────────────────────────────────────────────\n",
       "⎢                                                                             \n",
       "⎢                                                                             \n",
       "⎢                                                                             \n",
       "⎢                                                                             \n",
       "⎢                                                                             \n",
       "⎢                                                                             \n",
       "⎢                                                                             \n",
       "⎢                                                                             \n",
       "⎢                                                                             \n",
       "⎣                                                                             \n",
       "\n",
       "                                                                              \n",
       "                                                                              \n",
       "                                                                              \n",
       "                                                                              \n",
       "                                                                              \n",
       "                                                                              \n",
       "                                                                              \n",
       "                                                                              \n",
       "                                                 2                            \n",
       " d                                    ⎛d        ⎞                             \n",
       "⋅──(θ₂(t)) + 4⋅I₂⋅l₁⋅l₂⋅m₂⋅sin(θ₂(t))⋅⎜──(θ₂(t))⎟  + 8⋅I₂⋅τ₁(t) - 8⋅I₂⋅τ₂(t) +\n",
       " dt                                   ⎝dt       ⎠                             \n",
       "──────────────────────────────────────────────────────────────────────────────\n",
       "                                                                              \n",
       "                                                                              \n",
       "                                                                              \n",
       "     ⎛                                                                        \n",
       "     ⎜                                        ⎛         ⎛  d           d      \n",
       "    -⎜2⋅(4⋅I₂ + l₂⋅m₂⋅(2⋅l₁⋅cos(θ₂(t)) + l₂))⋅⎜l₁⋅l₂⋅m₂⋅⎜2⋅──(θ₁(t)) + ──(θ₂(t\n",
       "     ⎝                                        ⎝         ⎝  dt          dt     \n",
       "    ──────────────────────────────────────────────────────────────────────────\n",
       "                                                                              \n",
       "                                                                              \n",
       "\n",
       "                             d                                                \n",
       "                             ──(θ₁(t))                                        \n",
       "                             dt                                               \n",
       "                                                                              \n",
       "                             d                                                \n",
       "                             ──(θ₂(t))                                        \n",
       "                             dt                                               \n",
       "                                                                              \n",
       "                                     2                                    2   \n",
       "   2   2   2              ⎛d        ⎞         3   2            ⎛d        ⎞    \n",
       " l₁ ⋅l₂ ⋅m₂ ⋅sin(2⋅θ₂(t))⋅⎜──(θ₁(t))⎟  + l₁⋅l₂ ⋅m₂ ⋅sin(θ₂(t))⋅⎜──(θ₁(t))⎟  + \n",
       "                          ⎝dt       ⎠                          ⎝dt       ⎠    \n",
       "──────────────────────────────────────────────────────────────────────────────\n",
       "      2 ⎛                       2             2   2    2       ⎞              \n",
       "    l₁ ⋅⎝4⋅I₂⋅m₁ + 16⋅I₂⋅m₂ + l₂ ⋅m₁⋅m₂ + 4⋅l₂ ⋅m₂ ⋅sin (θ₂(t))⎠              \n",
       "                                                                              \n",
       "                                        ⎛                               2     \n",
       "  ⎞            d                  ⎞     ⎜                    ⎛d        ⎞      \n",
       "))⎟⋅sin(θ₂(t))⋅──(θ₂(t)) + 2⋅τ₁(t)⎟ + 2⋅⎜l₁⋅l₂⋅m₂⋅sin(θ₂(t))⋅⎜──(θ₁(t))⎟  - 2⋅\n",
       "  ⎠            dt                 ⎠     ⎝                    ⎝dt       ⎠      \n",
       "──────────────────────────────────────────────────────────────────────────────\n",
       "      2 ⎛                       2             2   2    2       ⎞              \n",
       "    l₁ ⋅⎝4⋅I₂⋅m₁ + 16⋅I₂⋅m₂ + l₂ ⋅m₁⋅m₂ + 4⋅l₂ ⋅m₂ ⋅sin (θ₂(t))⎠              \n",
       "\n",
       "                                                                              \n",
       "                                                                              \n",
       "                                                                              \n",
       "                                                                              \n",
       "                                                                              \n",
       "                                                                              \n",
       "                                                                              \n",
       "                                                                              \n",
       "                                                                              \n",
       "       3   2            d         d                3   2            ⎛d        \n",
       "2⋅l₁⋅l₂ ⋅m₂ ⋅sin(θ₂(t))⋅──(θ₁(t))⋅──(θ₂(t)) + l₁⋅l₂ ⋅m₂ ⋅sin(θ₂(t))⋅⎜──(θ₂(t))\n",
       "                        dt        dt                                ⎝dt       \n",
       "──────────────────────────────────────────────────────────────────────────────\n",
       "                                                                              \n",
       "                                                                              \n",
       "                                                                              \n",
       "     ⎞                                                        ⎞               \n",
       "     ⎟ ⎛         2         ⎛    2                          2⎞⎞⎟               \n",
       "τ₂(t)⎟⋅⎝4⋅I₂ + l₁ ⋅m₁ + m₂⋅⎝4⋅l₁  + 4⋅l₁⋅l₂⋅cos(θ₂(t)) + l₂ ⎠⎠⎟               \n",
       "     ⎠                                                        ⎠               \n",
       "────────────────────────────────────────────────────────────────              \n",
       "                                                                              \n",
       "                                                                              \n",
       "\n",
       "                                                                   ⎤\n",
       "                                                                   ⎥\n",
       "                                                                   ⎥\n",
       "                                                                   ⎥\n",
       "                                                                   ⎥\n",
       "                                                                   ⎥\n",
       "                                                                   ⎥\n",
       "                                                                   ⎥\n",
       " 2                                                                ⎞⎥\n",
       "⎞                                      2                2         ⎟⎥\n",
       "⎟  - 4⋅l₁⋅l₂⋅m₂⋅τ₂(t)⋅cos(θ₂(t)) + 2⋅l₂ ⋅m₂⋅τ₁(t) - 2⋅l₂ ⋅m₂⋅τ₂(t)⎟⎥\n",
       "⎠                                                                 ⎠⎥\n",
       "───────────────────────────────────────────────────────────────────⎥\n",
       "                                                                   ⎥\n",
       "                                                                   ⎥\n",
       "                                                                   ⎥\n",
       "                                                                   ⎥\n",
       "                                                                   ⎥\n",
       "                                                                   ⎥\n",
       "                                                                   ⎥\n",
       "                                                                   ⎥\n",
       "                                                                   ⎥\n",
       "                                                                   ⎦"
      ]
     },
     "execution_count": 8,
     "metadata": {},
     "output_type": "execute_result"
    }
   ],
   "source": [
    "# This can be a very expensive call to make, if you don't need it\n",
    "\n",
    "# Make the call to set up in state-space-ish form q_dot = f(q, t)\n",
    "lrhs = LM.rhs()\n",
    "\n",
    "# Simplify the results\n",
    "lrhs.simplify()\n",
    "\n",
    "# Output the result\n",
    "lrhs"
   ]
  },
  {
   "cell_type": "markdown",
   "metadata": {},
   "source": [
    "## Simulation\n",
    "We can pass these equations of motion to numerical solver for simluation. To do so, we need to import [NumPy](http://numpy.org) and the [SciPy](http://www.scipy.org) ode solver, ```ode```. We'll also import [matplotlib](http://www.scipy.org) to enable plotting of the results."
   ]
  },
  {
   "cell_type": "code",
   "execution_count": 9,
   "metadata": {
    "collapsed": true
   },
   "outputs": [],
   "source": [
    "# import NumPy with namespace np\n",
    "import numpy as np\n",
    "\n",
    "# import the scipy ODE solver\n",
    "from scipy.integrate import odeint\n",
    "\n",
    "# import the plotting functions from matplotlib\n",
    "import matplotlib.pyplot as plt\n",
    "\n",
    "# set up the notebook to display the plots inline\n",
    "%matplotlib inline"
   ]
  },
  {
   "cell_type": "code",
   "execution_count": 10,
   "metadata": {
    "collapsed": true
   },
   "outputs": [],
   "source": [
    "# define the forcing function\n",
    "def torq(t):\n",
    "    # set the maximum torque output\n",
    "    torq_max = 100.0\n",
    "    \n",
    "    # return a bang-bang command\n",
    "    return torq_max * (t > 0.5) - 2 * torq_max * (t > 1.0) + torq_max * (t > 1.5)\n",
    "\n",
    "def tau_1(t):\n",
    "    return 2*torq(t)\n",
    "\n",
    "def tau_2(t):\n",
    "    return torq(t)    "
   ]
  },
  {
   "cell_type": "code",
   "execution_count": 11,
   "metadata": {},
   "outputs": [],
   "source": [
    "def eq_of_motion(w, t, p):\n",
    "    \"\"\" Equations of motion for the two link system\"\"\"\n",
    "    \n",
    "    theta_1, theta_2, theta_1_dot, theta_2_dot = w\n",
    "    m_1, m_2, l_1, l_2, I_1, I_2 = p\n",
    "    \n",
    "    sys_ode = [theta_1_dot,\n",
    "               theta_2_dot,\n",
    "               2*(4*I_2*l_1*l_2*m_2*np.sin(theta_2)*theta_1_dot**2 + 8*I_2*l_1*l_2*m_2*np.sin(theta_2)*theta_1_dot*theta_2_dot + 4*I_2*l_1*l_2*m_2*np.sin(theta_2)*theta_2_dot**2 + 8*I_2*tau_1(t) - 8*I_2*tau_2(t) + l_1**2*l_2**2*m_2**2*np.sin(2*theta_2)*theta_1_dot**2 + l_1*l_2**3*m_2**2*np.sin(theta_2)*theta_1_dot**2 + 2*l_1*l_2**3*m_2**2*np.sin(theta_2)*theta_1_dot*theta_2_dot + l_1*l_2**3*m_2**2*np.sin(theta_2)*theta_2_dot**2 - 4*l_1*l_2*m_2*tau_2(t)*np.cos(theta_2) + 2*l_2**2*m_2*tau_1(t) - 2*l_2**2*m_2*tau_2(t))/(l_1**2*(4*I_2*m_1 + 16*I_2*m_2 + l_2**2*m_1*m_2 + 4*l_2**2*m_2**2*np.sin(theta_2)**2)),\n",
    "               -(2*(4*I_2 + l_2*m_2*(2*l_1*np.cos(theta_2) + l_2))*(l_1*l_2*m_2*(2*theta_1_dot + theta_2_dot)*np.sin(theta_2)*theta_2_dot + 2*tau_1(t)) + 2*(l_1*l_2*m_2*np.sin(theta_2)*theta_1_dot**2 - 2*tau_2(t))*(4*I_2 + l_1**2*m_1 + m_2*(4*l_1**2 + 4*l_1*l_2*np.cos(theta_2) + l_2**2)))/(l_1**2*(4*I_2*m_1 + 16*I_2*m_2 + l_2**2*m_1*m_2 + 4*l_2**2*m_2**2*np.sin(theta_2)**2))]\n",
    "    \n",
    "    return sys_ode"
   ]
  },
  {
   "cell_type": "code",
   "execution_count": 12,
   "metadata": {},
   "outputs": [],
   "source": [
    "# Set up the initial conditions for the solver\n",
    "theta1_init = 90.0 * np.pi/180  # Initial angle (rad)\n",
    "theta1_dot_init = 0.0           # Initial angular velocity (rad/s)\n",
    "theta2_init = 0.0 * np.pi/180  # Initial angle (rad)\n",
    "theta2_dot_init = 0.0           # Initial angular velocity (rad/s)\n",
    "\n",
    "# Pack the initial conditions into an array\n",
    "x0 = [theta1_init, theta2_init, theta1_dot_init, theta2_dot_init]\n",
    "\n",
    "# Define the numerical values for all the system constants\n",
    "# and pack them into a list for passing\n",
    "m1 = 10.0\n",
    "m2 = 10.0\n",
    "l1 = 2.0\n",
    "l2 = 2.0 \n",
    "I1 = 1/12 * m1 * l1**2\n",
    "I2 = 1/12 * m2 * l2**2\n",
    "\n",
    "p = [m1, m2, l1, l2, I1, I2]\n",
    "\n",
    "# Create the time samples for the output of the ODE solver\n",
    "sim_time = np.linspace(0.0, 5.0, 5001) # 0-10s with 1001 points in between"
   ]
  },
  {
   "cell_type": "code",
   "execution_count": 13,
   "metadata": {},
   "outputs": [],
   "source": [
    "# ODE solver parameters\n",
    "abserr = 1.0e-9\n",
    "relerr = 1.0e-9\n",
    "max_step = 0.01\n",
    "\n",
    "# Call the ODE solver.\n",
    "resp = odeint(eq_of_motion, x0, sim_time, args=(p,), atol=abserr, rtol=relerr,  hmax=max_step)"
   ]
  },
  {
   "cell_type": "code",
   "execution_count": 14,
   "metadata": {},
   "outputs": [
    {
     "data": {
      "image/png": "[encoded data removed]",
      "text/plain": [
       "<matplotlib.figure.Figure at 0x118b96128>"
      ]
     },
     "metadata": {},
     "output_type": "display_data"
    }
   ],
   "source": [
    "# Set the plot size - 3x2 aspect ratio is best\n",
    "fig = plt.figure(figsize=(6, 4))\n",
    "ax = plt.gca()\n",
    "plt.subplots_adjust(bottom=0.17, left=0.17, top=0.96, right=0.96)\n",
    "\n",
    "# Change the axis units to serif\n",
    "plt.setp(ax.get_ymajorticklabels(), family='serif', fontsize=18)\n",
    "plt.setp(ax.get_xmajorticklabels(), family='serif', fontsize=18)\n",
    "\n",
    "# Remove top and right axes border\n",
    "ax.spines['right'].set_color('none')\n",
    "ax.spines['top'].set_color('none')\n",
    "\n",
    "# Only show axes ticks on the bottom and left axes\n",
    "ax.xaxis.set_ticks_position('bottom')\n",
    "ax.yaxis.set_ticks_position('left')\n",
    "\n",
    "# Turn on the plot grid and set appropriate linestyle and color\n",
    "ax.grid(True,linestyle=':', color='0.75')\n",
    "ax.set_axisbelow(True)\n",
    "\n",
    "# Define the X and Y axis labels\n",
    "plt.xlabel('Time (s)', family='serif', fontsize=22, weight='bold', labelpad=5)\n",
    "plt.ylabel('Angle (deg)', family='serif', fontsize=22, weight='bold', labelpad=10)\n",
    "\n",
    "# Plot the data\n",
    "plt.plot(sim_time, resp[:, 0] * 180/np.pi, linewidth=2, linestyle='-', label = r'$\\theta_1$')\n",
    "plt.plot(sim_time, resp[:, 1] * 180/np.pi, linewidth=2, linestyle='--', label = r'$\\theta_2$')\n",
    "\n",
    "# uncomment below and set limits if needed\n",
    "# plt.xlim(0, 5)\n",
    "# plt.ylim(-1, 5)\n",
    "\n",
    "# Create the legend, then fix the fontsize\n",
    "leg = plt.legend(loc='upper right', ncol = 2, fancybox=True)\n",
    "ltext  = leg.get_texts()\n",
    "plt.setp(ltext, family='serif', fontsize=20)\n",
    "\n",
    "# Adjust the page layout filling the page using the new tight_layout command\n",
    "plt.tight_layout(pad=0.5)\n",
    "\n",
    "# Uncomment to save the figure as a high-res pdf in the current folder\n",
    "# It's saved at the original 6x4 size\n",
    "# plt.savefig('TwoLinkArm_AngularResponse.pdf')\n",
    "\n",
    "fig.set_size_inches(9, 6) # Resize the figure for better display in the notebook"
   ]
  },
  {
   "cell_type": "code",
   "execution_count": 15,
   "metadata": {},
   "outputs": [],
   "source": [
    "# Now, let's define the planar positions of the elbow joint and endpoint\n",
    "# Then, we'll plot them on a planar representation of the workspace\n",
    "elbow_x = l1 * np.cos(resp[:,0])\n",
    "elbow_y = l1 * np.sin(resp[:,0])\n",
    "end_x = elbow_x + l2 * np.cos(resp[:,0] + resp[:,1])\n",
    "end_y = elbow_y + l2 * np.sin(resp[:,0] + resp[:,1])"
   ]
  },
  {
   "cell_type": "code",
   "execution_count": 16,
   "metadata": {},
   "outputs": [
    {
     "data": {
      "image/png": "[encoded data removed]",
      "text/plain": [
       "<matplotlib.figure.Figure at 0x11ba8c5c0>"
      ]
     },
     "metadata": {},
     "output_type": "display_data"
    }
   ],
   "source": [
    "# Set the plot size - 3x2 aspect ratio is best\n",
    "fig = plt.figure(figsize=(6, 4))\n",
    "ax = plt.gca()\n",
    "plt.subplots_adjust(bottom=0.17, left=0.17, top=0.96, right=0.96)\n",
    "\n",
    "# Change the axis units to serif\n",
    "plt.setp(ax.get_ymajorticklabels(), family='serif', fontsize=18)\n",
    "plt.setp(ax.get_xmajorticklabels(), family='serif', fontsize=18)\n",
    "\n",
    "# Remove top and right axes border\n",
    "ax.spines['right'].set_color('none')\n",
    "ax.spines['top'].set_color('none')\n",
    "\n",
    "# Only show axes ticks on the bottom and left axes\n",
    "ax.xaxis.set_ticks_position('bottom')\n",
    "ax.yaxis.set_ticks_position('left')\n",
    "\n",
    "# Turn on the plot grid and set appropriate linestyle and color\n",
    "ax.grid(True,linestyle=':', color='0.75')\n",
    "ax.set_axisbelow(True)\n",
    "\n",
    "# Define the X and Y axis labels\n",
    "plt.xlabel('Horizontal Position (m)', family='serif', fontsize=22, weight='bold', labelpad=5)\n",
    "plt.ylabel('Vertical Position (m)', family='serif', fontsize=22, weight='bold', labelpad=10)\n",
    "\n",
    "# Plot the data\n",
    "plt.plot(elbow_x, elbow_y, linewidth=2, linestyle='-', label = r'Elbow')\n",
    "plt.plot(end_x, end_y, linewidth=2, linestyle='--', label = r'Endpoint')\n",
    "plt.plot(0,0, linestyle='', marker='o', markersize=5, label ='', zorder = 99)\n",
    "\n",
    "# uncomment below and set limits if needed\n",
    "plt.xlim(-4, 4)\n",
    "plt.ylim(-1, 4+1/3)\n",
    "\n",
    "# Create the legend, then fix the fontsize\n",
    "leg = plt.legend(loc='upper right', ncol = 1, fancybox=True)\n",
    "ltext  = leg.get_texts()\n",
    "plt.setp(ltext, family='serif', fontsize=20)\n",
    "\n",
    "# Adjust the page layout filling the page using the new tight_layout command\n",
    "plt.tight_layout(pad=0.5)\n",
    "\n",
    "# Uncomment to save the figure as a high-res pdf in the current folder\n",
    "# It's saved at the original 6x4 size\n",
    "# plt.savefig('TwoLinkArm_PlanarResponse.pdf')\n",
    "\n",
    "fig.set_size_inches(9, 6) # Resize the figure for better display in the notebook"
   ]
  },
  {
   "cell_type": "markdown",
   "metadata": {},
   "source": [
    "<hr class = \"style-end\">"
   ]
  },
  {
   "cell_type": "markdown",
   "metadata": {},
   "source": [
    "#### Licenses\n",
    "Code is licensed under a 3-clause BSD style license. See the licenses/LICENSE.md file.\n",
    "\n",
    "Other content is provided under a [Creative Commons Attribution-NonCommercial 4.0 International License](http://creativecommons.org/licenses/by-nc/4.0/), CC-BY-NC 4.0."
   ]
  },
  {
   "cell_type": "code",
   "execution_count": 17,
   "metadata": {},
   "outputs": [
    {
     "data": {
      "text/html": [
       "<script>\n",
       "    MathJax.Hub.Config({\n",
       "                        TeX: {\n",
       "                           extensions: [\"AMSmath.js\"]\n",
       "                           },\n",
       "                tex2jax: {\n",
       "                    inlineMath: [ ['$','$'], [\"\\\\(\",\"\\\\)\"] ],\n",
       "                    displayMath: [ ['$$','$$'], [\"\\\\[\",\"\\\\]\"] ]\n",
       "                },\n",
       "                displayAlign: 'center', // Change this to 'center' to center equations.\n",
       "                \"HTML-CSS\": {\n",
       "                    styles: {'.MathJax_Display': {\"margin\": 4}}\n",
       "                }\n",
       "        });\n",
       "</script>\n",
       "\n",
       "<style>\n",
       "    @font-face {\n",
       "        font-family: \"Computer Modern\";\n",
       "        src: url('http://mirrors.ctan.org/fonts/cm-unicode/fonts/otf/cmunss.otf');\n",
       "    }\n",
       "    @font-face {\n",
       "        font-family: \"Computer Modern\";\n",
       "        src: url('http://mirrors.ctan.org/fonts/cm-unicode/fonts/otf/cmunsx.otf');\n",
       "        font-weight: bold;\n",
       "    }\n",
       "    @font-face {\n",
       "        font-family: \"Computer Modern\";\n",
       "        src: url('http://mirrors.ctan.org/fonts/cm-unicode/fonts/otf/cmunsi.otf');\n",
       "        font-style: oblique;\n",
       "    }\n",
       "    @font-face {\n",
       "        font-family: \"Computer Modern\";\n",
       "        src: url('http://mirrors.ctan.org/fonts/cm-unicode/fonts/otf/cmunso.otf');\n",
       "        font-weight: bold;\n",
       "        font-style: oblique;\n",
       "    }\n",
       "\n",
       "    div.cell {\n",
       "        max-width: 1100px;\n",
       "    }\n",
       "    \n",
       "    h1 {\n",
       "        font-family: Computer Modern;\n",
       "    }\n",
       "    \n",
       "    h4 {\n",
       "        margin-top: 12px;\n",
       "        margin-bottom: 3px;\n",
       "    }\n",
       "\n",
       "    div.text_cell_render {\n",
       "        font-family: Computer Modern, \"Helvetica Neue\", Arial, Helvetica, Geneva, sans-serif;\n",
       "        line-height: 145%;\n",
       "        font-size: 130%;\n",
       "        width: 100%;\n",
       "        max-width: 1100px;\n",
       "    }\n",
       "    \n",
       "    .CodeMirror {\n",
       "        font-family: \"Source Code Pro\", source-code-pro, Consolas, monospace;\n",
       "    }\n",
       "    \n",
       "    .warning {\n",
       "        color: rgb( 240, 20, 20 )\n",
       "    }  \n",
       "  \n",
       "   \n",
       "    hr.style-end {\n",
       "        border: 0px;\n",
       "        height: 1px;\n",
       "        text-align: center;\n",
       "        background: #333;\n",
       "        background-image: -webkit-linear-gradient(left, #ccc, #333, #ccc); \n",
       "        background-image:    -moz-linear-gradient(left, #ccc, #333, #ccc); \n",
       "        background-image:     -ms-linear-gradient(left, #ccc, #333, #ccc); \n",
       "        background-image:      -o-linear-gradient(left, #ccc, #333, #ccc); \n",
       "    }\n",
       "\n",
       "    hr.style-end:after {\n",
       "        content: &#x269C;\n",
       "        left: 50%;\n",
       "        position: absolute;\n",
       "        /* Controls the whitespace around the symbol */\n",
       "        padding: 0px;\n",
       "        background: #fff;\n",
       "    }\n",
       "    \n",
       "/*  Center figures, etc\n",
       "    .ui-wrapper {\n",
       "        margin-left: auto !important;\n",
       "        margin-right: auto !important;\n",
       "    }\n",
       "*/\n",
       "    \n",
       "</style>\n"
      ],
      "text/plain": [
       "<IPython.core.display.HTML object>"
      ]
     },
     "execution_count": 17,
     "metadata": {},
     "output_type": "execute_result"
    }
   ],
   "source": [
    "# This cell will just improve the styling of the notebook\n",
    "# You can ignore it, if you are okay with the default sytling\n",
    "from IPython.core.display import HTML\n",
    "import urllib.request\n",
    "response = urllib.request.urlopen(\"https://cl.ly/1B1y452Z1d35\")\n",
    "HTML(response.read().decode(\"utf-8\"))"
   ]
  }
 ],
 "metadata": {
  "kernelspec": {
   "display_name": "Python 3",
   "language": "python",
   "name": "python3"
  },
  "language_info": {
   "codemirror_mode": {
    "name": "ipython",
    "version": 3
   },
   "file_extension": ".py",
   "mimetype": "text/x-python",
   "name": "python",
   "nbconvert_exporter": "python",
   "pygments_lexer": "ipython3",
   "version": "3.6.2"
  }
 },
 "nbformat": 4,
 "nbformat_minor": 2
}
