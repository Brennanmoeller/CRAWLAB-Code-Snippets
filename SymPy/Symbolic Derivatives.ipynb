{
 "metadata": {
  "name": "",
  "signature": "sha256:76b6e9e2bb804430828fe1807d6dd2c099a3b772ca9433f75dc276c7d28e7b7c"
 },
 "nbformat": 3,
 "nbformat_minor": 0,
 "worksheets": [
  {
   "cells": [
    {
     "cell_type": "markdown",
     "metadata": {},
     "source": [
      "<h1 style=\"text-align:center\">Sympy Derivatives</h1>\n",
      "<p style=\"text-align:center\">Dr. Joshua Vaughan <br>\n",
      "<a href=\"mailto:joshua.vaughan@louisiana.edu\">joshua.vaughan@louisiana.edu</a><br>\n",
      "http://www.ucs.louisiana.edu/~jev9637/   </p>"
     ]
    },
    {
     "cell_type": "code",
     "collapsed": false,
     "input": [
      "# Import the sympy module\n",
      "import sympy"
     ],
     "language": "python",
     "metadata": {},
     "outputs": [],
     "prompt_number": 1
    },
    {
     "cell_type": "code",
     "collapsed": false,
     "input": [
      "# Make sympy print \"pretty\"\n",
      "sympy.init_printing(use_latex=True)"
     ],
     "language": "python",
     "metadata": {},
     "outputs": [],
     "prompt_number": 2
    },
    {
     "cell_type": "code",
     "collapsed": false,
     "input": [
      "# Define symbols\n",
      "x, y, z, t = sympy.symbols(('x', 'y', 'z', 't'), real=True)\n",
      "c, k = sympy.symbols(('c', 'k'), real=True, positive=True)\n",
      "\n",
      "xdot, ydot, zdot = sympy.symbols(('\\dot{x}', '\\dot{y}', '\\dot{z}'))\n",
      "\n",
      "xddot, yddot, zddot = sympy.symbols(('\\ddot{x}', '\\ddot{y}', '\\ddot{z}'))"
     ],
     "language": "python",
     "metadata": {},
     "outputs": [],
     "prompt_number": 3
    },
    {
     "cell_type": "code",
     "collapsed": false,
     "input": [
      "# Define the function\n",
      "f = xddot + c*xdot**2*ydot + k * ydot * zddot * x\n",
      "\n",
      "f # Show f"
     ],
     "language": "python",
     "metadata": {},
     "outputs": [
      {
       "latex": [
        "$$\\ddot{x} + \\ddot{z} \\dot{y} k x + \\dot{x}^{2} \\dot{y} c$$"
       ],
       "metadata": {},
       "output_type": "pyout",
       "png": "[encoded data removed]",
       "prompt_number": 4,
       "text": [
        "                                         2          \n",
        "\\ddot{x} + \\ddot{z}\u22c5\\dot{y}\u22c5k\u22c5x + \\dot{x} \u22c5\\dot{y}\u22c5c"
       ]
      }
     ],
     "prompt_number": 4
    },
    {
     "cell_type": "markdown",
     "metadata": {},
     "source": [
      "Now, let's take some partial derivatives, as we would need to do during linearization.\n",
      "\n",
      "First let's look at:\n",
      "\n",
      "$$\\frac{\\delta f}{\\delta\\dot{x}}$$"
     ]
    },
    {
     "cell_type": "code",
     "collapsed": false,
     "input": [
      "# Now let's take some partial derivatives of f\n",
      "\n",
      "# first df/dxdot\n",
      "dfdxdot = sympy.diff(f, xdot)\n",
      "\n",
      "dfdxdot"
     ],
     "language": "python",
     "metadata": {},
     "outputs": [
      {
       "latex": [
        "$$2 \\dot{x} \\dot{y} c$$"
       ],
       "metadata": {},
       "output_type": "pyout",
       "png": "[encoded data removed]",
       "prompt_number": 5,
       "text": [
        "2\u22c5\\dot{x}\u22c5\\dot{y}\u22c5c"
       ]
      }
     ],
     "prompt_number": 5
    },
    {
     "cell_type": "markdown",
     "metadata": {},
     "source": [
      "Now:\n",
      "\n",
      "$$\\frac{\\delta f}{\\delta x}$$"
     ]
    },
    {
     "cell_type": "code",
     "collapsed": false,
     "input": [
      "# df/dx\n",
      "dfdx = sympy.diff(f, x)\n",
      "\n",
      "dfdx"
     ],
     "language": "python",
     "metadata": {},
     "outputs": [
      {
       "latex": [
        "$$\\ddot{z} \\dot{y} k$$"
       ],
       "metadata": {},
       "output_type": "pyout",
       "png": "[encoded data removed]",
       "prompt_number": 6,
       "text": [
        "\\ddot{z}\u22c5\\dot{y}\u22c5k"
       ]
      }
     ],
     "prompt_number": 6
    },
    {
     "cell_type": "markdown",
     "metadata": {},
     "source": [
      "Next: \n",
      "\n",
      "$$\\frac{\\delta ^2f}{\\delta x\\delta \\dot{y}}$$"
     ]
    },
    {
     "cell_type": "code",
     "collapsed": false,
     "input": [
      "dfdxdy = sympy.diff(f, x, ydot)\n",
      "\n",
      "dfdxdy"
     ],
     "language": "python",
     "metadata": {},
     "outputs": [
      {
       "latex": [
        "$$\\ddot{z} k$$"
       ],
       "metadata": {},
       "output_type": "pyout",
       "png": "[encoded data removed]",
       "prompt_number": 7,
       "text": [
        "\\ddot{z}\u22c5k"
       ]
      }
     ],
     "prompt_number": 7
    },
    {
     "cell_type": "markdown",
     "metadata": {},
     "source": [
      "### Now, let's try it on a mass-spring-system (Ask Dare for details on the system)"
     ]
    },
    {
     "cell_type": "code",
     "collapsed": false,
     "input": [
      "x1, x2, x3, y1, y2, y3, x, y, z = sympy.symbols('x1 x2 x3 y1 y2 y3 x y z', Real=True)\n",
      "l1, l2, m, k, c, g  = sympy.symbols('l1 l2 m k c g', Real=True, positive=True)\n",
      "\n",
      "x1_dot, x1_ddot = sympy.symbols(('\\dot{x}_1','\\ddot{x}_1'))\n",
      "x2_dot, x2_ddot = sympy.symbols(('\\dot{x}_2','\\ddot{x}_2'))\n",
      "x3_dot, x3_ddot = sympy.symbols(('\\dot{x}_3','\\ddot{x}_3'))\n",
      "\n",
      "y1_dot, y1_ddot = sympy.symbols(('\\dot{y}_1','\\ddot{y}_1'))\n",
      "y2_dot, y2_ddot = sympy.symbols(('\\dot{y}_2','\\ddot{y}_2'))\n",
      "y3_dot, y3_ddot = sympy.symbols(('\\dot{y}_3','\\ddot{y}_3'))\n",
      "\n",
      "# Shouldn't l1 and l2 be a constant? It's the equilibrium length of the springs, right? \n",
      "l1_dot, l1_ddot = sympy.symbols(('\\dot{l}_1','\\ddot{l}_1'))\n",
      "l2_dot, l2_ddot = sympy.symbols(('\\dot{l}_2','\\ddot{l}_2'))\n",
      "\n",
      "theta1 = sympy.atan2((y3 - y1),(x3 - x1))\n",
      "theta2 = sympy.atan2((y2 - y3),(x2 - x3))\n",
      "\n",
      "# deflection from equilibrium\n",
      "d1 = sympy.sqrt((y1 - y3)**2 + (x1 - x3)**2) - l1\n",
      "d1_dot = (((y1 - y3)*(y1_dot - y3_dot) + (x1 - x3)*(x1_dot - x3_dot)) / (sympy.sqrt((y1 - y3)**2 + (x1 - x3)**2))) - l1_dot     \n",
      "d2 = sympy.sqrt((y2 - y3)**2 + (x2 - x3)**2) - l2\n",
      "d2_dot = (((y2 - y3)*(y2_dot - y3_dot) + (x2 - x3)*(x2_dot - x3_dot)) / (sympy.sqrt((y2 - y3)**2 + (x2 - x3)**2))) - l2_dot\n",
      "\n",
      "\n",
      "\n",
      "x_direction = m*x3_ddot + k*d1*sympy.cos(theta1) + c*sympy.cos(theta1)*d1_dot - k*d2*sympy.cos(theta2) - c*sympy.cos(theta2)*d2_dot\n",
      "\n",
      "y_direction = m*y3_ddot + k*d1*sympy.sin(theta1) + c*sympy.sin(theta1)*d1_dot - k*d2*sympy.sin(theta2) - c*sympy.sin(theta2)*d2_dot + m*g\n"
     ],
     "language": "python",
     "metadata": {},
     "outputs": [],
     "prompt_number": 8
    },
    {
     "cell_type": "code",
     "collapsed": false,
     "input": [
      "# Defining K Matrix\n",
      "k1_x = sympy.diff(x_direction, x3)\n",
      "k1_y = sympy.diff(x_direction, y3)\n",
      "k2_x = sympy.diff(y_direction, x3)\n",
      "k2_y = sympy.diff(y_direction, y3)\n",
      "\n",
      "K = sympy.Matrix([[k1_x, k1_y],[k2_x, k2_y]])\n",
      "\n",
      "K_eq = K.subs([(m,1.75),(g,9.81),(l1,0.707),(l2,0.707),(k,50.0),(c,0.35),(x1,0.00),(x1_dot,0.0),(x2,2.00), \\\n",
      "           (x2_dot,0.00),(x3,1.0),(x3_dot,0.0),(y1,0.0),(y1_dot,0.0),(y2,0.0),(y2_dot,0.0),(y3,-1.29),(y3_dot,0.0), \\\n",
      "           (l1_dot,0.0),(l2_dot,0.0)])\n",
      "\n",
      "K_eq"
     ],
     "language": "python",
     "metadata": {},
     "outputs": [
      {
       "latex": [
        "$$\\left[\\begin{matrix}72.9434106265987 & 0\\\\0 & 83.7410075275517\\end{matrix}\\right]$$"
       ],
       "metadata": {},
       "output_type": "pyout",
       "png": "[encoded data removed]",
       "prompt_number": 9,
       "text": [
        "\u23a172.9434106265987         0        \u23a4\n",
        "\u23a2                                  \u23a5\n",
        "\u23a3       0          83.7410075275517\u23a6"
       ]
      }
     ],
     "prompt_number": 9
    },
    {
     "cell_type": "code",
     "collapsed": false,
     "input": [
      "# Defining the C Matrix\n",
      "c1_x = sympy.diff(x_direction, x3_dot)\n",
      "c1_y = sympy.diff(x_direction, y3_dot)\n",
      "c2_x = sympy.diff(y_direction, x3_dot)\n",
      "c2_y = sympy.diff(y_direction, y3_dot)\n",
      "\n",
      "C = sympy.Matrix([[c1_x, c1_y],[c2_x, c2_y]])\n",
      "\n",
      "C_eq = C.subs([(m,1.75),(g,9.81),(l1,0.707),(l2,0.707),(k,50.0),(c,0.35),(x1,0.00),(x1_dot,0.0),(x2,2.00), \\\n",
      "           (x2_dot,0.00),(x3,1.0),(x3_dot,0.0),(y1,0.0),(y1_dot,0.0),(y2,0.0),(y2_dot,0.0),(y3,-1.29),(y3_dot,0.0), \\\n",
      "           (l1_dot,0.0),(l2_dot,0.0)])\n",
      "\n",
      "C_eq"
     ],
     "language": "python",
     "metadata": {},
     "outputs": [
      {
       "latex": [
        "$$\\left[\\begin{matrix}0.262752899665928 & 0\\\\0 & 0.437247100334071\\end{matrix}\\right]$$"
       ],
       "metadata": {},
       "output_type": "pyout",
       "png": "[encoded data removed]",
       "prompt_number": 10,
       "text": [
        "\u23a10.262752899665928          0        \u23a4\n",
        "\u23a2                                    \u23a5\n",
        "\u23a3        0          0.437247100334071\u23a6"
       ]
      }
     ],
     "prompt_number": 10
    },
    {
     "cell_type": "markdown",
     "metadata": {},
     "source": [
      "<hr class = \"style-end\">"
     ]
    },
    {
     "cell_type": "markdown",
     "metadata": {},
     "source": [
      "#### Licenses\n",
      "Code is licensed under a 3-clause BSD style license. See the licenses/LICENSE.md file.\n",
      "\n",
      "Other content is provided under a [Creative Commons Attribution-NonCommercial 4.0 International License](http://creativecommons.org/licenses/by-nc/4.0/), CC-BY-NC 4.0."
     ]
    },
    {
     "cell_type": "code",
     "collapsed": false,
     "input": [
      "# Ignore this cell - We just update the CSS to make the notebook look a little bit better and easier to read\n",
      "\n",
      "# Improve the notebook styling -- Run this first\n",
      "from IPython.core.display import HTML\n",
      "css_file = '../styling/CRAWLAB_IPythonNotebook.css'\n",
      "HTML(open(css_file, \"r\").read())"
     ],
     "language": "python",
     "metadata": {},
     "outputs": [
      {
       "html": [
        "<style>\n",
        "    @font-face {\n",
        "        font-family: \"Computer Modern\";\n",
        "        src: url('http://9dbb143991406a7c655e-aa5fcb0a5a4ec34cff238a2d56ca4144.r56.cf5.rackcdn.com/cmunss.otf');\n",
        "    }\n",
        "    @font-face {\n",
        "        font-family: \"Computer Modern\";\n",
        "        font-weight: bold;\n",
        "        src: url('http://9dbb143991406a7c655e-aa5fcb0a5a4ec34cff238a2d56ca4144.r56.cf5.rackcdn.com/cmunsx.otf');\n",
        "    }\n",
        "    @font-face {\n",
        "        font-family: \"Computer Modern\";\n",
        "        font-style: oblique;\n",
        "        src: url('http://9dbb143991406a7c655e-aa5fcb0a5a4ec34cff238a2d56ca4144.r56.cf5.rackcdn.com/cmunsi.otf');\n",
        "    }\n",
        "    @font-face {\n",
        "        font-family: \"Computer Modern\";\n",
        "        font-weight: bold;\n",
        "        font-style: oblique;\n",
        "        src: url('http://9dbb143991406a7c655e-aa5fcb0a5a4ec34cff238a2d56ca4144.r56.cf5.rackcdn.com/cmunso.otf');\n",
        "    }\n",
        "    \n",
        "    div.cell{\n",
        "        max-width:1100px;\n",
        "        margin-left:auto;\n",
        "        margin-right:auto;\n",
        "    }\n",
        "    \n",
        "    h1 {\n",
        "        font-family: Computer Modern;\n",
        "    }\n",
        "    \n",
        "    h4{\n",
        "        margin-top:12px;\n",
        "        margin-bottom: 3px;\n",
        "       }\n",
        "\n",
        "    div.text_cell_render{\n",
        "        font-family: Computer Modern, \"Helvetica Neue\", Arial, Helvetica, Geneva, sans-serif;\n",
        "        line-height: 145%;\n",
        "        font-size: 130%;\n",
        "        max-width:1100px;\n",
        "        margin-left:auto;\n",
        "        margin-right:auto;\n",
        "    }\n",
        "    \n",
        "    .CodeMirror{\n",
        "            font-family: \"Source Code Pro\", source-code-pro, Consolas, monospace;\n",
        "    }\n",
        "    \n",
        "    .warning{\n",
        "        color: rgb( 240, 20, 20 )\n",
        "        }  \n",
        "    \n",
        "    hr.style-end {\n",
        "    border: 0;\n",
        "    height: 1px;\n",
        "    text-align: center;\n",
        "    background: #333;\n",
        "    background-image: -webkit-linear-gradient(left, #ccc, #333, #ccc); \n",
        "    background-image:    -moz-linear-gradient(left, #ccc, #333, #ccc); \n",
        "    background-image:     -ms-linear-gradient(left, #ccc, #333, #ccc); \n",
        "    background-image:      -o-linear-gradient(left, #ccc, #333, #ccc); \n",
        "    }\n",
        "\n",
        "    hr.style-end:after {\n",
        "    content: \"\u269c\";\n",
        "    display: inline-block;\n",
        "    position: relative; \n",
        "    top: -0.5em;  \n",
        "    font-size: 1.5em;\n",
        "    padding: 0 0.25em;\n",
        "    background: white;\n",
        "    }\n",
        "    \n",
        "/*  Center figures, etc\n",
        "    .ui-wrapper {\n",
        "        margin-left: auto !important;\n",
        "        margin-right: auto !important;\n",
        "    }\n",
        " */\n",
        "    \n",
        "</style>\n",
        "<script>\n",
        "    MathJax.Hub.Config({\n",
        "                        TeX: {\n",
        "                           extensions: [\"AMSmath.js\"]\n",
        "                           },\n",
        "                tex2jax: {\n",
        "                    inlineMath: [ ['$','$'], [\"\\\\(\",\"\\\\)\"] ],\n",
        "                    displayMath: [ ['$$','$$'], [\"\\\\[\",\"\\\\]\"] ]\n",
        "                },\n",
        "                displayAlign: 'center', // Change this to 'center' to center equations.\n",
        "                \"HTML-CSS\": {\n",
        "                    styles: {'.MathJax_Display': {\"margin\": 4}}\n",
        "                }\n",
        "        });\n",
        "</script>\n"
       ],
       "metadata": {},
       "output_type": "pyout",
       "prompt_number": 11,
       "text": [
        "<IPython.core.display.HTML at 0x106dcaed0>"
       ]
      }
     ],
     "prompt_number": 11
    }
   ],
   "metadata": {}
  }
 ]
}